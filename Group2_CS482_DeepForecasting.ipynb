{
  "nbformat": 4,
  "nbformat_minor": 0,
  "metadata": {
    "colab": {
      "name": "Group2-CS482-DeepForecasting.ipynb",
      "provenance": [],
      "collapsed_sections": []
    },
    "kernelspec": {
      "name": "python3",
      "display_name": "Python 3"
    },
    "language_info": {
      "name": "python"
    },
    "widgets": {
      "application/vnd.jupyter.widget-state+json": {
        "d924c35be1bb49a9ade13a1b7dea4cbf": {
          "model_module": "@jupyter-widgets/controls",
          "model_name": "HBoxModel",
          "model_module_version": "1.5.0",
          "state": {
            "_view_name": "HBoxView",
            "_dom_classes": [],
            "_model_name": "HBoxModel",
            "_view_module": "@jupyter-widgets/controls",
            "_model_module_version": "1.5.0",
            "_view_count": null,
            "_view_module_version": "1.5.0",
            "box_style": "",
            "layout": "IPY_MODEL_e3fa3a67c97f4ba59daa844febb9bd21",
            "_model_module": "@jupyter-widgets/controls",
            "children": [
              "IPY_MODEL_238b794e665f46c4ad57dd7e4b1e8e65",
              "IPY_MODEL_6b8628339cbc48b6b68f89de7e74b347",
              "IPY_MODEL_7add5d1b5e974f5487d73019146b446a"
            ]
          }
        },
        "e3fa3a67c97f4ba59daa844febb9bd21": {
          "model_module": "@jupyter-widgets/base",
          "model_name": "LayoutModel",
          "model_module_version": "1.2.0",
          "state": {
            "_view_name": "LayoutView",
            "grid_template_rows": null,
            "right": null,
            "justify_content": null,
            "_view_module": "@jupyter-widgets/base",
            "overflow": null,
            "_model_module_version": "1.2.0",
            "_view_count": null,
            "flex_flow": null,
            "width": null,
            "min_width": null,
            "border": null,
            "align_items": null,
            "bottom": null,
            "_model_module": "@jupyter-widgets/base",
            "top": null,
            "grid_column": null,
            "overflow_y": null,
            "overflow_x": null,
            "grid_auto_flow": null,
            "grid_area": null,
            "grid_template_columns": null,
            "flex": null,
            "_model_name": "LayoutModel",
            "justify_items": null,
            "grid_row": null,
            "max_height": null,
            "align_content": null,
            "visibility": null,
            "align_self": null,
            "height": null,
            "min_height": null,
            "padding": null,
            "grid_auto_rows": null,
            "grid_gap": null,
            "max_width": null,
            "order": null,
            "_view_module_version": "1.2.0",
            "grid_template_areas": null,
            "object_position": null,
            "object_fit": null,
            "grid_auto_columns": null,
            "margin": null,
            "display": null,
            "left": null
          }
        },
        "238b794e665f46c4ad57dd7e4b1e8e65": {
          "model_module": "@jupyter-widgets/controls",
          "model_name": "HTMLModel",
          "model_module_version": "1.5.0",
          "state": {
            "_view_name": "HTMLView",
            "style": "IPY_MODEL_129fdbe2cd2f4f9e975e4ba0ae103112",
            "_dom_classes": [],
            "description": "",
            "_model_name": "HTMLModel",
            "placeholder": "​",
            "_view_module": "@jupyter-widgets/controls",
            "_model_module_version": "1.5.0",
            "value": "100%",
            "_view_count": null,
            "_view_module_version": "1.5.0",
            "description_tooltip": null,
            "_model_module": "@jupyter-widgets/controls",
            "layout": "IPY_MODEL_5433d374d829466f9b552fb6d19731da"
          }
        },
        "6b8628339cbc48b6b68f89de7e74b347": {
          "model_module": "@jupyter-widgets/controls",
          "model_name": "FloatProgressModel",
          "model_module_version": "1.5.0",
          "state": {
            "_view_name": "ProgressView",
            "style": "IPY_MODEL_2d29d3253f93470e9193b02fd0f145f2",
            "_dom_classes": [],
            "description": "",
            "_model_name": "FloatProgressModel",
            "bar_style": "success",
            "max": 44,
            "_view_module": "@jupyter-widgets/controls",
            "_model_module_version": "1.5.0",
            "value": 44,
            "_view_count": null,
            "_view_module_version": "1.5.0",
            "orientation": "horizontal",
            "min": 0,
            "description_tooltip": null,
            "_model_module": "@jupyter-widgets/controls",
            "layout": "IPY_MODEL_6586cc32475741b4b46bfdc9477c687d"
          }
        },
        "7add5d1b5e974f5487d73019146b446a": {
          "model_module": "@jupyter-widgets/controls",
          "model_name": "HTMLModel",
          "model_module_version": "1.5.0",
          "state": {
            "_view_name": "HTMLView",
            "style": "IPY_MODEL_697121d487064b5e84e5a7a2fac8278b",
            "_dom_classes": [],
            "description": "",
            "_model_name": "HTMLModel",
            "placeholder": "​",
            "_view_module": "@jupyter-widgets/controls",
            "_model_module_version": "1.5.0",
            "value": " 44/44 [02:06&lt;00:00,  2.66s/it]",
            "_view_count": null,
            "_view_module_version": "1.5.0",
            "description_tooltip": null,
            "_model_module": "@jupyter-widgets/controls",
            "layout": "IPY_MODEL_e78d731eba0040c6b9eb030344c0a8cb"
          }
        },
        "129fdbe2cd2f4f9e975e4ba0ae103112": {
          "model_module": "@jupyter-widgets/controls",
          "model_name": "DescriptionStyleModel",
          "model_module_version": "1.5.0",
          "state": {
            "_view_name": "StyleView",
            "_model_name": "DescriptionStyleModel",
            "description_width": "",
            "_view_module": "@jupyter-widgets/base",
            "_model_module_version": "1.5.0",
            "_view_count": null,
            "_view_module_version": "1.2.0",
            "_model_module": "@jupyter-widgets/controls"
          }
        },
        "5433d374d829466f9b552fb6d19731da": {
          "model_module": "@jupyter-widgets/base",
          "model_name": "LayoutModel",
          "model_module_version": "1.2.0",
          "state": {
            "_view_name": "LayoutView",
            "grid_template_rows": null,
            "right": null,
            "justify_content": null,
            "_view_module": "@jupyter-widgets/base",
            "overflow": null,
            "_model_module_version": "1.2.0",
            "_view_count": null,
            "flex_flow": null,
            "width": null,
            "min_width": null,
            "border": null,
            "align_items": null,
            "bottom": null,
            "_model_module": "@jupyter-widgets/base",
            "top": null,
            "grid_column": null,
            "overflow_y": null,
            "overflow_x": null,
            "grid_auto_flow": null,
            "grid_area": null,
            "grid_template_columns": null,
            "flex": null,
            "_model_name": "LayoutModel",
            "justify_items": null,
            "grid_row": null,
            "max_height": null,
            "align_content": null,
            "visibility": null,
            "align_self": null,
            "height": null,
            "min_height": null,
            "padding": null,
            "grid_auto_rows": null,
            "grid_gap": null,
            "max_width": null,
            "order": null,
            "_view_module_version": "1.2.0",
            "grid_template_areas": null,
            "object_position": null,
            "object_fit": null,
            "grid_auto_columns": null,
            "margin": null,
            "display": null,
            "left": null
          }
        },
        "2d29d3253f93470e9193b02fd0f145f2": {
          "model_module": "@jupyter-widgets/controls",
          "model_name": "ProgressStyleModel",
          "model_module_version": "1.5.0",
          "state": {
            "_view_name": "StyleView",
            "_model_name": "ProgressStyleModel",
            "description_width": "",
            "_view_module": "@jupyter-widgets/base",
            "_model_module_version": "1.5.0",
            "_view_count": null,
            "_view_module_version": "1.2.0",
            "bar_color": null,
            "_model_module": "@jupyter-widgets/controls"
          }
        },
        "6586cc32475741b4b46bfdc9477c687d": {
          "model_module": "@jupyter-widgets/base",
          "model_name": "LayoutModel",
          "model_module_version": "1.2.0",
          "state": {
            "_view_name": "LayoutView",
            "grid_template_rows": null,
            "right": null,
            "justify_content": null,
            "_view_module": "@jupyter-widgets/base",
            "overflow": null,
            "_model_module_version": "1.2.0",
            "_view_count": null,
            "flex_flow": null,
            "width": null,
            "min_width": null,
            "border": null,
            "align_items": null,
            "bottom": null,
            "_model_module": "@jupyter-widgets/base",
            "top": null,
            "grid_column": null,
            "overflow_y": null,
            "overflow_x": null,
            "grid_auto_flow": null,
            "grid_area": null,
            "grid_template_columns": null,
            "flex": null,
            "_model_name": "LayoutModel",
            "justify_items": null,
            "grid_row": null,
            "max_height": null,
            "align_content": null,
            "visibility": null,
            "align_self": null,
            "height": null,
            "min_height": null,
            "padding": null,
            "grid_auto_rows": null,
            "grid_gap": null,
            "max_width": null,
            "order": null,
            "_view_module_version": "1.2.0",
            "grid_template_areas": null,
            "object_position": null,
            "object_fit": null,
            "grid_auto_columns": null,
            "margin": null,
            "display": null,
            "left": null
          }
        },
        "697121d487064b5e84e5a7a2fac8278b": {
          "model_module": "@jupyter-widgets/controls",
          "model_name": "DescriptionStyleModel",
          "model_module_version": "1.5.0",
          "state": {
            "_view_name": "StyleView",
            "_model_name": "DescriptionStyleModel",
            "description_width": "",
            "_view_module": "@jupyter-widgets/base",
            "_model_module_version": "1.5.0",
            "_view_count": null,
            "_view_module_version": "1.2.0",
            "_model_module": "@jupyter-widgets/controls"
          }
        },
        "e78d731eba0040c6b9eb030344c0a8cb": {
          "model_module": "@jupyter-widgets/base",
          "model_name": "LayoutModel",
          "model_module_version": "1.2.0",
          "state": {
            "_view_name": "LayoutView",
            "grid_template_rows": null,
            "right": null,
            "justify_content": null,
            "_view_module": "@jupyter-widgets/base",
            "overflow": null,
            "_model_module_version": "1.2.0",
            "_view_count": null,
            "flex_flow": null,
            "width": null,
            "min_width": null,
            "border": null,
            "align_items": null,
            "bottom": null,
            "_model_module": "@jupyter-widgets/base",
            "top": null,
            "grid_column": null,
            "overflow_y": null,
            "overflow_x": null,
            "grid_auto_flow": null,
            "grid_area": null,
            "grid_template_columns": null,
            "flex": null,
            "_model_name": "LayoutModel",
            "justify_items": null,
            "grid_row": null,
            "max_height": null,
            "align_content": null,
            "visibility": null,
            "align_self": null,
            "height": null,
            "min_height": null,
            "padding": null,
            "grid_auto_rows": null,
            "grid_gap": null,
            "max_width": null,
            "order": null,
            "_view_module_version": "1.2.0",
            "grid_template_areas": null,
            "object_position": null,
            "object_fit": null,
            "grid_auto_columns": null,
            "margin": null,
            "display": null,
            "left": null
          }
        }
      }
    }
  },
  "cells": [
    {
      "cell_type": "markdown",
      "source": [
        "# Group - 2 Deep Forecasting Project\n",
        "by Ram Vyas, David Moscsizko , Aaron Ha"
      ],
      "metadata": {
        "id": "ynrrEqKyhfZi"
      }
    },
    {
      "cell_type": "markdown",
      "source": [
        "# Facebook Prophet"
      ],
      "metadata": {
        "id": "EavGYjlQERkZ"
      }
    },
    {
      "cell_type": "markdown",
      "source": [
        "Facebook's Prophet uses three main components to make predictions: Trend, Seasonality, and Holidays. It's general formula takes the following form:\n",
        "\n",
        "$$y(t) = g(t) + s(t) + h(t) + e(t)$$\n",
        "\n",
        "$g(t)$ represents the trend, $s(t)$ represents the seasonality, $h(t)$ represents the holidays, and $e(t)$ represents any other noise not covered in the other three functions. \n",
        "\n",
        "$g(t)$ is most commonly the logistic function, which takes the general shape:\n",
        "$$g(t) = \\frac{C}{1 + -k^{t-m}} $$\n",
        "C is the **Carrying Capacity**\n",
        "\n",
        "K is the **Growth Rate**\n",
        "\n",
        "m is the **offset**\n",
        "\n",
        "Changepoints are used to indicate when the growth rate can change. For the most part, these are placed around important dates like holidays. \n",
        "\n",
        "Prophet uses a standard Fourier Series for the seasonality. $s(t)$ allows the model to change based on different time periods. For example, a model might produce effects that happen every 5 days (standard work week).\n",
        "\n",
        "$h(t)$ represents specific holidays that need to be accounted for, such as Black Friday, a massive shopping holiday. $h(t)$ uses a matrix of regressors, along with a prior for each regressor. "
      ],
      "metadata": {
        "id": "Yz2cnM_2SWOL"
      }
    },
    {
      "cell_type": "markdown",
      "source": [
        "Reference:\n",
        "Taylor​​, S. J., &amp; Letham​, B. (2017, September 27). Forecasting at scale. PeerJ Preprints. Retrieved December 10, 2021, from https://doi.org/10.7287/peerj.preprints.3190v2."
      ],
      "metadata": {
        "id": "yb6P5uPej1uk"
      }
    },
    {
      "cell_type": "code",
      "metadata": {
        "id": "Ftme4rCXMuXL",
        "colab": {
          "base_uri": "https://localhost:8080/"
        },
        "outputId": "9457a7c4-cedf-4f48-924a-d26e15b197cd"
      },
      "source": [
        " !pip install yfinance\n",
        " !pip install yahoofinancials\n",
        " !pip install fbprophet\n",
        " !pip install pystan\n",
        " !pip install fbprophet\n",
        "import numpy as np\n",
        "import pandas as pd\n",
        "import yfinance as yf\n",
        "import matplotlib.pyplot as plt\n",
        "from yahoofinancials import YahooFinancials\n",
        "from fbprophet import Prophet\n",
        "from sklearn.model_selection import train_test_split\n"
      ],
      "execution_count": null,
      "outputs": [
        {
          "output_type": "stream",
          "name": "stdout",
          "text": [
            "Collecting yfinance\n",
            "  Downloading yfinance-0.1.67-py2.py3-none-any.whl (25 kB)\n",
            "Collecting lxml>=4.5.1\n",
            "  Downloading lxml-4.6.5-cp37-cp37m-manylinux_2_17_x86_64.manylinux2014_x86_64.manylinux_2_24_x86_64.whl (6.3 MB)\n",
            "\u001b[K     |████████████████████████████████| 6.3 MB 21.6 MB/s \n",
            "\u001b[?25hRequirement already satisfied: requests>=2.20 in /usr/local/lib/python3.7/dist-packages (from yfinance) (2.23.0)\n",
            "Requirement already satisfied: numpy>=1.15 in /usr/local/lib/python3.7/dist-packages (from yfinance) (1.19.5)\n",
            "Requirement already satisfied: pandas>=0.24 in /usr/local/lib/python3.7/dist-packages (from yfinance) (1.1.5)\n",
            "Requirement already satisfied: multitasking>=0.0.7 in /usr/local/lib/python3.7/dist-packages (from yfinance) (0.0.10)\n",
            "Requirement already satisfied: pytz>=2017.2 in /usr/local/lib/python3.7/dist-packages (from pandas>=0.24->yfinance) (2018.9)\n",
            "Requirement already satisfied: python-dateutil>=2.7.3 in /usr/local/lib/python3.7/dist-packages (from pandas>=0.24->yfinance) (2.8.2)\n",
            "Requirement already satisfied: six>=1.5 in /usr/local/lib/python3.7/dist-packages (from python-dateutil>=2.7.3->pandas>=0.24->yfinance) (1.15.0)\n",
            "Requirement already satisfied: urllib3!=1.25.0,!=1.25.1,<1.26,>=1.21.1 in /usr/local/lib/python3.7/dist-packages (from requests>=2.20->yfinance) (1.24.3)\n",
            "Requirement already satisfied: idna<3,>=2.5 in /usr/local/lib/python3.7/dist-packages (from requests>=2.20->yfinance) (2.10)\n",
            "Requirement already satisfied: chardet<4,>=3.0.2 in /usr/local/lib/python3.7/dist-packages (from requests>=2.20->yfinance) (3.0.4)\n",
            "Requirement already satisfied: certifi>=2017.4.17 in /usr/local/lib/python3.7/dist-packages (from requests>=2.20->yfinance) (2021.10.8)\n",
            "Installing collected packages: lxml, yfinance\n",
            "  Attempting uninstall: lxml\n",
            "    Found existing installation: lxml 4.2.6\n",
            "    Uninstalling lxml-4.2.6:\n",
            "      Successfully uninstalled lxml-4.2.6\n",
            "Successfully installed lxml-4.6.5 yfinance-0.1.67\n",
            "Collecting yahoofinancials\n",
            "  Downloading yahoofinancials-1.6.tar.gz (27 kB)\n",
            "Requirement already satisfied: beautifulsoup4 in /usr/local/lib/python3.7/dist-packages (from yahoofinancials) (4.6.3)\n",
            "Requirement already satisfied: pytz in /usr/local/lib/python3.7/dist-packages (from yahoofinancials) (2018.9)\n",
            "Building wheels for collected packages: yahoofinancials\n",
            "  Building wheel for yahoofinancials (setup.py) ... \u001b[?25l\u001b[?25hdone\n",
            "  Created wheel for yahoofinancials: filename=yahoofinancials-1.6-py3-none-any.whl size=15190 sha256=4741bdf6f41f34107127729d1b60b58659aca7a2aabb8660120bc5164da7a285\n",
            "  Stored in directory: /root/.cache/pip/wheels/4b/63/46/e7110bfee88685fe69e338d1b14d1748921862aa57b6705b60\n",
            "Successfully built yahoofinancials\n",
            "Installing collected packages: yahoofinancials\n",
            "Successfully installed yahoofinancials-1.6\n",
            "Requirement already satisfied: fbprophet in /usr/local/lib/python3.7/dist-packages (0.7.1)\n",
            "Requirement already satisfied: Cython>=0.22 in /usr/local/lib/python3.7/dist-packages (from fbprophet) (0.29.24)\n",
            "Requirement already satisfied: cmdstanpy==0.9.5 in /usr/local/lib/python3.7/dist-packages (from fbprophet) (0.9.5)\n",
            "Requirement already satisfied: pystan>=2.14 in /usr/local/lib/python3.7/dist-packages (from fbprophet) (2.19.1.1)\n",
            "Requirement already satisfied: numpy>=1.15.4 in /usr/local/lib/python3.7/dist-packages (from fbprophet) (1.19.5)\n",
            "Requirement already satisfied: pandas>=1.0.4 in /usr/local/lib/python3.7/dist-packages (from fbprophet) (1.1.5)\n",
            "Requirement already satisfied: matplotlib>=2.0.0 in /usr/local/lib/python3.7/dist-packages (from fbprophet) (3.2.2)\n",
            "Requirement already satisfied: LunarCalendar>=0.0.9 in /usr/local/lib/python3.7/dist-packages (from fbprophet) (0.0.9)\n",
            "Requirement already satisfied: convertdate>=2.1.2 in /usr/local/lib/python3.7/dist-packages (from fbprophet) (2.3.2)\n",
            "Requirement already satisfied: holidays>=0.10.2 in /usr/local/lib/python3.7/dist-packages (from fbprophet) (0.10.5.2)\n",
            "Requirement already satisfied: setuptools-git>=1.2 in /usr/local/lib/python3.7/dist-packages (from fbprophet) (1.2)\n",
            "Requirement already satisfied: python-dateutil>=2.8.0 in /usr/local/lib/python3.7/dist-packages (from fbprophet) (2.8.2)\n",
            "Requirement already satisfied: tqdm>=4.36.1 in /usr/local/lib/python3.7/dist-packages (from fbprophet) (4.62.3)\n",
            "Requirement already satisfied: pymeeus<=1,>=0.3.13 in /usr/local/lib/python3.7/dist-packages (from convertdate>=2.1.2->fbprophet) (0.5.11)\n",
            "Requirement already satisfied: pytz>=2014.10 in /usr/local/lib/python3.7/dist-packages (from convertdate>=2.1.2->fbprophet) (2018.9)\n",
            "Requirement already satisfied: hijri-converter in /usr/local/lib/python3.7/dist-packages (from holidays>=0.10.2->fbprophet) (2.2.2)\n",
            "Requirement already satisfied: korean-lunar-calendar in /usr/local/lib/python3.7/dist-packages (from holidays>=0.10.2->fbprophet) (0.2.1)\n",
            "Requirement already satisfied: six in /usr/local/lib/python3.7/dist-packages (from holidays>=0.10.2->fbprophet) (1.15.0)\n",
            "Requirement already satisfied: ephem>=3.7.5.3 in /usr/local/lib/python3.7/dist-packages (from LunarCalendar>=0.0.9->fbprophet) (4.1)\n",
            "Requirement already satisfied: pyparsing!=2.0.4,!=2.1.2,!=2.1.6,>=2.0.1 in /usr/local/lib/python3.7/dist-packages (from matplotlib>=2.0.0->fbprophet) (3.0.6)\n",
            "Requirement already satisfied: cycler>=0.10 in /usr/local/lib/python3.7/dist-packages (from matplotlib>=2.0.0->fbprophet) (0.11.0)\n",
            "Requirement already satisfied: kiwisolver>=1.0.1 in /usr/local/lib/python3.7/dist-packages (from matplotlib>=2.0.0->fbprophet) (1.3.2)\n",
            "Requirement already satisfied: pystan in /usr/local/lib/python3.7/dist-packages (2.19.1.1)\n",
            "Requirement already satisfied: Cython!=0.25.1,>=0.22 in /usr/local/lib/python3.7/dist-packages (from pystan) (0.29.24)\n",
            "Requirement already satisfied: numpy>=1.7 in /usr/local/lib/python3.7/dist-packages (from pystan) (1.19.5)\n",
            "Requirement already satisfied: fbprophet in /usr/local/lib/python3.7/dist-packages (0.7.1)\n",
            "Requirement already satisfied: Cython>=0.22 in /usr/local/lib/python3.7/dist-packages (from fbprophet) (0.29.24)\n",
            "Requirement already satisfied: cmdstanpy==0.9.5 in /usr/local/lib/python3.7/dist-packages (from fbprophet) (0.9.5)\n",
            "Requirement already satisfied: pystan>=2.14 in /usr/local/lib/python3.7/dist-packages (from fbprophet) (2.19.1.1)\n",
            "Requirement already satisfied: numpy>=1.15.4 in /usr/local/lib/python3.7/dist-packages (from fbprophet) (1.19.5)\n",
            "Requirement already satisfied: pandas>=1.0.4 in /usr/local/lib/python3.7/dist-packages (from fbprophet) (1.1.5)\n",
            "Requirement already satisfied: matplotlib>=2.0.0 in /usr/local/lib/python3.7/dist-packages (from fbprophet) (3.2.2)\n",
            "Requirement already satisfied: LunarCalendar>=0.0.9 in /usr/local/lib/python3.7/dist-packages (from fbprophet) (0.0.9)\n",
            "Requirement already satisfied: convertdate>=2.1.2 in /usr/local/lib/python3.7/dist-packages (from fbprophet) (2.3.2)\n",
            "Requirement already satisfied: holidays>=0.10.2 in /usr/local/lib/python3.7/dist-packages (from fbprophet) (0.10.5.2)\n",
            "Requirement already satisfied: setuptools-git>=1.2 in /usr/local/lib/python3.7/dist-packages (from fbprophet) (1.2)\n",
            "Requirement already satisfied: python-dateutil>=2.8.0 in /usr/local/lib/python3.7/dist-packages (from fbprophet) (2.8.2)\n",
            "Requirement already satisfied: tqdm>=4.36.1 in /usr/local/lib/python3.7/dist-packages (from fbprophet) (4.62.3)\n",
            "Requirement already satisfied: pytz>=2014.10 in /usr/local/lib/python3.7/dist-packages (from convertdate>=2.1.2->fbprophet) (2018.9)\n",
            "Requirement already satisfied: pymeeus<=1,>=0.3.13 in /usr/local/lib/python3.7/dist-packages (from convertdate>=2.1.2->fbprophet) (0.5.11)\n",
            "Requirement already satisfied: korean-lunar-calendar in /usr/local/lib/python3.7/dist-packages (from holidays>=0.10.2->fbprophet) (0.2.1)\n",
            "Requirement already satisfied: six in /usr/local/lib/python3.7/dist-packages (from holidays>=0.10.2->fbprophet) (1.15.0)\n",
            "Requirement already satisfied: hijri-converter in /usr/local/lib/python3.7/dist-packages (from holidays>=0.10.2->fbprophet) (2.2.2)\n",
            "Requirement already satisfied: ephem>=3.7.5.3 in /usr/local/lib/python3.7/dist-packages (from LunarCalendar>=0.0.9->fbprophet) (4.1)\n",
            "Requirement already satisfied: cycler>=0.10 in /usr/local/lib/python3.7/dist-packages (from matplotlib>=2.0.0->fbprophet) (0.11.0)\n",
            "Requirement already satisfied: pyparsing!=2.0.4,!=2.1.2,!=2.1.6,>=2.0.1 in /usr/local/lib/python3.7/dist-packages (from matplotlib>=2.0.0->fbprophet) (3.0.6)\n",
            "Requirement already satisfied: kiwisolver>=1.0.1 in /usr/local/lib/python3.7/dist-packages (from matplotlib>=2.0.0->fbprophet) (1.3.2)\n"
          ]
        }
      ]
    },
    {
      "cell_type": "code",
      "metadata": {
        "colab": {
          "base_uri": "https://localhost:8080/",
          "height": 206
        },
        "id": "4bJSSZuEeuoc",
        "outputId": "f5719032-5290-46ce-9a74-67f7f90226d6"
      },
      "source": [
        "collection_start_date = \"2021-09-10\"\n",
        "collection_end_date = \"2021-10-31\"\n",
        "\n",
        "yahoo_financials = YahooFinancials('BTC-USD')\n",
        "data=yahoo_financials.get_historical_price_data(collection_start_date, collection_end_date, \"daily\")\n",
        "btc_df = pd.DataFrame(data['BTC-USD']['prices'])\n",
        "# btc_df = btc_df.drop('date', axis=1).set_index('formatted_date')\n",
        "\n",
        "btc_df.drop(['date','low','open','close','volume','adjclose'], axis=1, inplace=True)\n",
        "#X = btc_df['formatted_date']\n",
        "#Y = btc_df['high']\n",
        "btc_df.columns = ['y', 'ds']\n",
        "#btc_df['y'] = np.log(btc_df['y'])\n",
        "btc_df.head()"
      ],
      "execution_count": null,
      "outputs": [
        {
          "output_type": "execute_result",
          "data": {
            "text/html": [
              "<div>\n",
              "<style scoped>\n",
              "    .dataframe tbody tr th:only-of-type {\n",
              "        vertical-align: middle;\n",
              "    }\n",
              "\n",
              "    .dataframe tbody tr th {\n",
              "        vertical-align: top;\n",
              "    }\n",
              "\n",
              "    .dataframe thead th {\n",
              "        text-align: right;\n",
              "    }\n",
              "</style>\n",
              "<table border=\"1\" class=\"dataframe\">\n",
              "  <thead>\n",
              "    <tr style=\"text-align: right;\">\n",
              "      <th></th>\n",
              "      <th>y</th>\n",
              "      <th>ds</th>\n",
              "    </tr>\n",
              "  </thead>\n",
              "  <tbody>\n",
              "    <tr>\n",
              "      <th>0</th>\n",
              "      <td>47031.742188</td>\n",
              "      <td>2021-09-10</td>\n",
              "    </tr>\n",
              "    <tr>\n",
              "      <th>1</th>\n",
              "      <td>45969.292969</td>\n",
              "      <td>2021-09-11</td>\n",
              "    </tr>\n",
              "    <tr>\n",
              "      <th>2</th>\n",
              "      <td>46364.878906</td>\n",
              "      <td>2021-09-12</td>\n",
              "    </tr>\n",
              "    <tr>\n",
              "      <th>3</th>\n",
              "      <td>46598.679688</td>\n",
              "      <td>2021-09-13</td>\n",
              "    </tr>\n",
              "    <tr>\n",
              "      <th>4</th>\n",
              "      <td>47218.125000</td>\n",
              "      <td>2021-09-14</td>\n",
              "    </tr>\n",
              "  </tbody>\n",
              "</table>\n",
              "</div>"
            ],
            "text/plain": [
              "              y          ds\n",
              "0  47031.742188  2021-09-10\n",
              "1  45969.292969  2021-09-11\n",
              "2  46364.878906  2021-09-12\n",
              "3  46598.679688  2021-09-13\n",
              "4  47218.125000  2021-09-14"
            ]
          },
          "metadata": {},
          "execution_count": 2
        }
      ]
    },
    {
      "cell_type": "code",
      "metadata": {
        "colab": {
          "base_uri": "https://localhost:8080/"
        },
        "id": "wECJoG125x18",
        "outputId": "0dbd9144-e504-41df-e8ff-71e8a2a01c4e"
      },
      "source": [
        "m = Prophet(interval_width=0.95, daily_seasonality=True)\n",
        "model = m.fit(btc_df)"
      ],
      "execution_count": null,
      "outputs": [
        {
          "output_type": "stream",
          "name": "stderr",
          "text": [
            "INFO:numexpr.utils:NumExpr defaulting to 2 threads.\n",
            "INFO:fbprophet:Disabling yearly seasonality. Run prophet with yearly_seasonality=True to override this.\n"
          ]
        }
      ]
    },
    {
      "cell_type": "code",
      "metadata": {
        "colab": {
          "base_uri": "https://localhost:8080/",
          "height": 313
        },
        "id": "22dF_mev7FFt",
        "outputId": "90e479e6-c248-4f06-8a93-33444c564317"
      },
      "source": [
        "future = m.make_future_dataframe(periods=100,freq='D')\n",
        "forecast = m.predict(future)\n",
        "forecast.head()"
      ],
      "execution_count": null,
      "outputs": [
        {
          "output_type": "execute_result",
          "data": {
            "text/html": [
              "<div>\n",
              "<style scoped>\n",
              "    .dataframe tbody tr th:only-of-type {\n",
              "        vertical-align: middle;\n",
              "    }\n",
              "\n",
              "    .dataframe tbody tr th {\n",
              "        vertical-align: top;\n",
              "    }\n",
              "\n",
              "    .dataframe thead th {\n",
              "        text-align: right;\n",
              "    }\n",
              "</style>\n",
              "<table border=\"1\" class=\"dataframe\">\n",
              "  <thead>\n",
              "    <tr style=\"text-align: right;\">\n",
              "      <th></th>\n",
              "      <th>ds</th>\n",
              "      <th>trend</th>\n",
              "      <th>yhat_lower</th>\n",
              "      <th>yhat_upper</th>\n",
              "      <th>trend_lower</th>\n",
              "      <th>trend_upper</th>\n",
              "      <th>additive_terms</th>\n",
              "      <th>additive_terms_lower</th>\n",
              "      <th>additive_terms_upper</th>\n",
              "      <th>daily</th>\n",
              "      <th>daily_lower</th>\n",
              "      <th>daily_upper</th>\n",
              "      <th>weekly</th>\n",
              "      <th>weekly_lower</th>\n",
              "      <th>weekly_upper</th>\n",
              "      <th>multiplicative_terms</th>\n",
              "      <th>multiplicative_terms_lower</th>\n",
              "      <th>multiplicative_terms_upper</th>\n",
              "      <th>yhat</th>\n",
              "    </tr>\n",
              "  </thead>\n",
              "  <tbody>\n",
              "    <tr>\n",
              "      <th>0</th>\n",
              "      <td>2021-09-10</td>\n",
              "      <td>2791.242726</td>\n",
              "      <td>45128.716751</td>\n",
              "      <td>51094.760084</td>\n",
              "      <td>2791.242726</td>\n",
              "      <td>2791.242726</td>\n",
              "      <td>45387.107163</td>\n",
              "      <td>45387.107163</td>\n",
              "      <td>45387.107163</td>\n",
              "      <td>44661.471282</td>\n",
              "      <td>44661.471282</td>\n",
              "      <td>44661.471282</td>\n",
              "      <td>725.635880</td>\n",
              "      <td>725.635880</td>\n",
              "      <td>725.635880</td>\n",
              "      <td>0.0</td>\n",
              "      <td>0.0</td>\n",
              "      <td>0.0</td>\n",
              "      <td>48178.349888</td>\n",
              "    </tr>\n",
              "    <tr>\n",
              "      <th>1</th>\n",
              "      <td>2021-09-11</td>\n",
              "      <td>2644.119037</td>\n",
              "      <td>44106.947216</td>\n",
              "      <td>49877.780734</td>\n",
              "      <td>2644.119037</td>\n",
              "      <td>2644.119037</td>\n",
              "      <td>44337.085505</td>\n",
              "      <td>44337.085505</td>\n",
              "      <td>44337.085505</td>\n",
              "      <td>44661.471282</td>\n",
              "      <td>44661.471282</td>\n",
              "      <td>44661.471282</td>\n",
              "      <td>-324.385778</td>\n",
              "      <td>-324.385778</td>\n",
              "      <td>-324.385778</td>\n",
              "      <td>0.0</td>\n",
              "      <td>0.0</td>\n",
              "      <td>0.0</td>\n",
              "      <td>46981.204542</td>\n",
              "    </tr>\n",
              "    <tr>\n",
              "      <th>2</th>\n",
              "      <td>2021-09-12</td>\n",
              "      <td>2496.995349</td>\n",
              "      <td>43947.057320</td>\n",
              "      <td>49911.681012</td>\n",
              "      <td>2496.995349</td>\n",
              "      <td>2496.995349</td>\n",
              "      <td>44307.372124</td>\n",
              "      <td>44307.372124</td>\n",
              "      <td>44307.372124</td>\n",
              "      <td>44661.471282</td>\n",
              "      <td>44661.471282</td>\n",
              "      <td>44661.471282</td>\n",
              "      <td>-354.099158</td>\n",
              "      <td>-354.099158</td>\n",
              "      <td>-354.099158</td>\n",
              "      <td>0.0</td>\n",
              "      <td>0.0</td>\n",
              "      <td>0.0</td>\n",
              "      <td>46804.367473</td>\n",
              "    </tr>\n",
              "    <tr>\n",
              "      <th>3</th>\n",
              "      <td>2021-09-13</td>\n",
              "      <td>2349.871661</td>\n",
              "      <td>44015.046285</td>\n",
              "      <td>49838.413297</td>\n",
              "      <td>2349.871661</td>\n",
              "      <td>2349.871661</td>\n",
              "      <td>44697.406862</td>\n",
              "      <td>44697.406862</td>\n",
              "      <td>44697.406862</td>\n",
              "      <td>44661.471282</td>\n",
              "      <td>44661.471282</td>\n",
              "      <td>44661.471282</td>\n",
              "      <td>35.935579</td>\n",
              "      <td>35.935579</td>\n",
              "      <td>35.935579</td>\n",
              "      <td>0.0</td>\n",
              "      <td>0.0</td>\n",
              "      <td>0.0</td>\n",
              "      <td>47047.278522</td>\n",
              "    </tr>\n",
              "    <tr>\n",
              "      <th>4</th>\n",
              "      <td>2021-09-14</td>\n",
              "      <td>2202.747972</td>\n",
              "      <td>43649.892817</td>\n",
              "      <td>49294.962187</td>\n",
              "      <td>2202.747972</td>\n",
              "      <td>2202.747972</td>\n",
              "      <td>44289.474381</td>\n",
              "      <td>44289.474381</td>\n",
              "      <td>44289.474381</td>\n",
              "      <td>44661.471282</td>\n",
              "      <td>44661.471282</td>\n",
              "      <td>44661.471282</td>\n",
              "      <td>-371.996902</td>\n",
              "      <td>-371.996902</td>\n",
              "      <td>-371.996902</td>\n",
              "      <td>0.0</td>\n",
              "      <td>0.0</td>\n",
              "      <td>0.0</td>\n",
              "      <td>46492.222353</td>\n",
              "    </tr>\n",
              "  </tbody>\n",
              "</table>\n",
              "</div>"
            ],
            "text/plain": [
              "          ds        trend  ...  multiplicative_terms_upper          yhat\n",
              "0 2021-09-10  2791.242726  ...                         0.0  48178.349888\n",
              "1 2021-09-11  2644.119037  ...                         0.0  46981.204542\n",
              "2 2021-09-12  2496.995349  ...                         0.0  46804.367473\n",
              "3 2021-09-13  2349.871661  ...                         0.0  47047.278522\n",
              "4 2021-09-14  2202.747972  ...                         0.0  46492.222353\n",
              "\n",
              "[5 rows x 19 columns]"
            ]
          },
          "metadata": {},
          "execution_count": 4
        }
      ]
    },
    {
      "cell_type": "code",
      "metadata": {
        "colab": {
          "base_uri": "https://localhost:8080/",
          "height": 441
        },
        "id": "I2YjfEUC7Qai",
        "outputId": "07152371-7db6-4660-ec52-0d3a0b92a6fd"
      },
      "source": [
        "plot1 = m.plot(forecast)"
      ],
      "execution_count": null,
      "outputs": [
        {
          "output_type": "display_data",
          "data": {
            "image/png": "[encoded data removed]",
            "text/plain": [
              "<Figure size 720x432 with 1 Axes>"
            ]
          },
          "metadata": {}
        }
      ]
    },
    {
      "cell_type": "code",
      "metadata": {
        "id": "IgvrGF297Yaz",
        "colab": {
          "base_uri": "https://localhost:8080/",
          "height": 657
        },
        "outputId": "f9ec3e19-f0fa-4452-f934-d0ab0b139174"
      },
      "source": [
        "plt2 = m.plot_components(forecast)"
      ],
      "execution_count": null,
      "outputs": [
        {
          "output_type": "display_data",
          "data": {
            "image/png": "[encoded data removed]",
            "text/plain": [
              "<Figure size 648x648 with 3 Axes>"
            ]
          },
          "metadata": {}
        }
      ]
    },
    {
      "cell_type": "code",
      "metadata": {
        "colab": {
          "base_uri": "https://localhost:8080/",
          "height": 524,
          "referenced_widgets": [
            "d924c35be1bb49a9ade13a1b7dea4cbf",
            "e3fa3a67c97f4ba59daa844febb9bd21",
            "238b794e665f46c4ad57dd7e4b1e8e65",
            "6b8628339cbc48b6b68f89de7e74b347",
            "7add5d1b5e974f5487d73019146b446a",
            "129fdbe2cd2f4f9e975e4ba0ae103112",
            "5433d374d829466f9b552fb6d19731da",
            "2d29d3253f93470e9193b02fd0f145f2",
            "6586cc32475741b4b46bfdc9477c687d",
            "697121d487064b5e84e5a7a2fac8278b",
            "e78d731eba0040c6b9eb030344c0a8cb"
          ]
        },
        "id": "v_zrJXCyF4q-",
        "outputId": "b25716b0-379d-4db1-a5e3-ef13c4a58078"
      },
      "source": [
        "\n",
        "from fbprophet.diagnostics import cross_validation\n",
        "df_cv = cross_validation(m,period=2,horizon=51)\n"
      ],
      "execution_count": null,
      "outputs": [
        {
          "output_type": "stream",
          "name": "stderr",
          "text": [
            "INFO:fbprophet:Making 44 forecasts with cutoffs between 2021-09-17 23:59:59.999999949 and 2021-10-30 23:59:59.999999949\n"
          ]
        },
        {
          "output_type": "display_data",
          "data": {
            "application/vnd.jupyter.widget-view+json": {
              "model_id": "d924c35be1bb49a9ade13a1b7dea4cbf",
              "version_minor": 0,
              "version_major": 2
            },
            "text/plain": [
              "  0%|          | 0/44 [00:00<?, ?it/s]"
            ]
          },
          "metadata": {}
        },
        {
          "output_type": "stream",
          "name": "stderr",
          "text": [
            "INFO:fbprophet:n_changepoints greater than number of observations. Using 5.\n",
            "INFO:fbprophet:n_changepoints greater than number of observations. Using 6.\n",
            "INFO:fbprophet:n_changepoints greater than number of observations. Using 7.\n",
            "INFO:fbprophet:n_changepoints greater than number of observations. Using 7.\n",
            "INFO:fbprophet:n_changepoints greater than number of observations. Using 8.\n",
            "INFO:fbprophet:n_changepoints greater than number of observations. Using 9.\n",
            "INFO:fbprophet:n_changepoints greater than number of observations. Using 10.\n",
            "INFO:fbprophet:n_changepoints greater than number of observations. Using 11.\n",
            "INFO:fbprophet:n_changepoints greater than number of observations. Using 11.\n",
            "INFO:fbprophet:n_changepoints greater than number of observations. Using 12.\n",
            "INFO:fbprophet:n_changepoints greater than number of observations. Using 13.\n",
            "INFO:fbprophet:n_changepoints greater than number of observations. Using 14.\n",
            "INFO:fbprophet:n_changepoints greater than number of observations. Using 15.\n",
            "INFO:fbprophet:n_changepoints greater than number of observations. Using 15.\n",
            "INFO:fbprophet:n_changepoints greater than number of observations. Using 16.\n",
            "INFO:fbprophet:n_changepoints greater than number of observations. Using 17.\n",
            "INFO:fbprophet:n_changepoints greater than number of observations. Using 18.\n",
            "INFO:fbprophet:n_changepoints greater than number of observations. Using 19.\n",
            "INFO:fbprophet:n_changepoints greater than number of observations. Using 19.\n",
            "INFO:fbprophet:n_changepoints greater than number of observations. Using 20.\n",
            "INFO:fbprophet:n_changepoints greater than number of observations. Using 21.\n",
            "INFO:fbprophet:n_changepoints greater than number of observations. Using 22.\n",
            "INFO:fbprophet:n_changepoints greater than number of observations. Using 23.\n",
            "INFO:fbprophet:n_changepoints greater than number of observations. Using 23.\n",
            "INFO:fbprophet:n_changepoints greater than number of observations. Using 24.\n"
          ]
        }
      ]
    },
    {
      "cell_type": "code",
      "metadata": {
        "colab": {
          "base_uri": "https://localhost:8080/",
          "height": 206
        },
        "id": "uB_syTSqHawE",
        "outputId": "4ad0cca0-d046-4a91-f6ab-b6a54e76bf55"
      },
      "source": [
        "df_cv.head()"
      ],
      "execution_count": null,
      "outputs": [
        {
          "output_type": "execute_result",
          "data": {
            "text/html": [
              "<div>\n",
              "<style scoped>\n",
              "    .dataframe tbody tr th:only-of-type {\n",
              "        vertical-align: middle;\n",
              "    }\n",
              "\n",
              "    .dataframe tbody tr th {\n",
              "        vertical-align: top;\n",
              "    }\n",
              "\n",
              "    .dataframe thead th {\n",
              "        text-align: right;\n",
              "    }\n",
              "</style>\n",
              "<table border=\"1\" class=\"dataframe\">\n",
              "  <thead>\n",
              "    <tr style=\"text-align: right;\">\n",
              "      <th></th>\n",
              "      <th>ds</th>\n",
              "      <th>yhat</th>\n",
              "      <th>yhat_lower</th>\n",
              "      <th>yhat_upper</th>\n",
              "      <th>y</th>\n",
              "      <th>cutoff</th>\n",
              "    </tr>\n",
              "  </thead>\n",
              "  <tbody>\n",
              "    <tr>\n",
              "      <th>0</th>\n",
              "      <td>2021-09-18</td>\n",
              "      <td>37975.518695</td>\n",
              "      <td>34973.646969</td>\n",
              "      <td>40821.515858</td>\n",
              "      <td>48791.781250</td>\n",
              "      <td>2021-09-17 23:59:59.999999949</td>\n",
              "    </tr>\n",
              "    <tr>\n",
              "      <th>1</th>\n",
              "      <td>2021-09-19</td>\n",
              "      <td>50504.436390</td>\n",
              "      <td>50121.122123</td>\n",
              "      <td>51001.621012</td>\n",
              "      <td>48328.367188</td>\n",
              "      <td>2021-09-18 23:59:59.999999949</td>\n",
              "    </tr>\n",
              "    <tr>\n",
              "      <th>2</th>\n",
              "      <td>2021-09-20</td>\n",
              "      <td>47796.131656</td>\n",
              "      <td>47046.234992</td>\n",
              "      <td>48655.182661</td>\n",
              "      <td>47328.199219</td>\n",
              "      <td>2021-09-19 23:59:59.999999949</td>\n",
              "    </tr>\n",
              "    <tr>\n",
              "      <th>3</th>\n",
              "      <td>2021-09-21</td>\n",
              "      <td>48849.849942</td>\n",
              "      <td>48149.425128</td>\n",
              "      <td>49498.704576</td>\n",
              "      <td>43607.609375</td>\n",
              "      <td>2021-09-20 23:59:59.999999949</td>\n",
              "    </tr>\n",
              "    <tr>\n",
              "      <th>4</th>\n",
              "      <td>2021-09-22</td>\n",
              "      <td>45793.650014</td>\n",
              "      <td>44637.286213</td>\n",
              "      <td>46999.740155</td>\n",
              "      <td>43978.621094</td>\n",
              "      <td>2021-09-21 23:59:59.999999949</td>\n",
              "    </tr>\n",
              "  </tbody>\n",
              "</table>\n",
              "</div>"
            ],
            "text/plain": [
              "          ds          yhat  ...             y                        cutoff\n",
              "0 2021-09-18  37975.518695  ...  48791.781250 2021-09-17 23:59:59.999999949\n",
              "1 2021-09-19  50504.436390  ...  48328.367188 2021-09-18 23:59:59.999999949\n",
              "2 2021-09-20  47796.131656  ...  47328.199219 2021-09-19 23:59:59.999999949\n",
              "3 2021-09-21  48849.849942  ...  43607.609375 2021-09-20 23:59:59.999999949\n",
              "4 2021-09-22  45793.650014  ...  43978.621094 2021-09-21 23:59:59.999999949\n",
              "\n",
              "[5 rows x 6 columns]"
            ]
          },
          "metadata": {},
          "execution_count": 8
        }
      ]
    },
    {
      "cell_type": "code",
      "metadata": {
        "colab": {
          "base_uri": "https://localhost:8080/",
          "height": 81
        },
        "id": "RU_bI2jFHmCb",
        "outputId": "b1af39d0-cab0-45e3-b72c-5914b8a30a3d"
      },
      "source": [
        "from fbprophet.diagnostics import performance_metrics\n",
        "df_p = performance_metrics(df_cv)\n",
        "df_p.head()"
      ],
      "execution_count": null,
      "outputs": [
        {
          "output_type": "execute_result",
          "data": {
            "text/html": [
              "<div>\n",
              "<style scoped>\n",
              "    .dataframe tbody tr th:only-of-type {\n",
              "        vertical-align: middle;\n",
              "    }\n",
              "\n",
              "    .dataframe tbody tr th {\n",
              "        vertical-align: top;\n",
              "    }\n",
              "\n",
              "    .dataframe thead th {\n",
              "        text-align: right;\n",
              "    }\n",
              "</style>\n",
              "<table border=\"1\" class=\"dataframe\">\n",
              "  <thead>\n",
              "    <tr style=\"text-align: right;\">\n",
              "      <th></th>\n",
              "      <th>horizon</th>\n",
              "      <th>mse</th>\n",
              "      <th>rmse</th>\n",
              "      <th>mae</th>\n",
              "      <th>mape</th>\n",
              "      <th>mdape</th>\n",
              "      <th>coverage</th>\n",
              "    </tr>\n",
              "  </thead>\n",
              "  <tbody>\n",
              "    <tr>\n",
              "      <th>0</th>\n",
              "      <td>0 days 00:00:00.000000051</td>\n",
              "      <td>1.265278e+07</td>\n",
              "      <td>3557.074665</td>\n",
              "      <td>2720.126879</td>\n",
              "      <td>0.050987</td>\n",
              "      <td>0.040813</td>\n",
              "      <td>0.5</td>\n",
              "    </tr>\n",
              "  </tbody>\n",
              "</table>\n",
              "</div>"
            ],
            "text/plain": [
              "                    horizon           mse  ...     mdape  coverage\n",
              "0 0 days 00:00:00.000000051  1.265278e+07  ...  0.040813       0.5\n",
              "\n",
              "[1 rows x 7 columns]"
            ]
          },
          "metadata": {},
          "execution_count": 9
        }
      ]
    },
    {
      "cell_type": "markdown",
      "source": [
        "# DeepAR"
      ],
      "metadata": {
        "id": "C0uX7QS0EZen"
      }
    },
    {
      "cell_type": "markdown",
      "source": [
        "DeepAR functions by analyzing different-scale time series, specifically their relationships to categorical features. Grouping relationships with a specific categorical feature into an embedding vector allows predictions to be made on changes that may arise from modification of the concerned feature.\n",
        "\n",
        "DeepAR supports the following basic time series:\n",
        "\n",
        "Frequency of the Time Series | Derived Features\n",
        "-----------------------------|------------------\n",
        "`Minute` | `minute-of-hour`, `hour-of-day`, `day-of-week`, `day-of-month`, `day-of-year`\n",
        "`Hour` | `hour-of-day`, `day-of-week`, `day-of-month`, `day-of-year`\n",
        "`Day` | `day-of-week`, `day-of-month`, `day-of-year`\n",
        "`Week` | `day-of-month`, `week-of-year`\n",
        "`Month` | `month-of-year`\n",
        "\n",
        "The model is trained by stochastically sampling examples from each time series in the training dataset. The size of these examples is governed by the combined value of the hyperparameters of `context_length`, which is the amount of data each sample location has to make predictions with, and `prediction_length`, the period for which the model must make a prediction at the given location. The model can then use its findings to make requested predictions."
      ],
      "metadata": {
        "id": "bvS1EpTz97PK"
      }
    },
    {
      "cell_type": "code",
      "source": [
        "# !pip install yfinance\n",
        "# !pip install yahoofinancials\n",
        "import pandas as pd\n",
        "import yfinance as yf\n",
        "from yahoofinancials import YahooFinancials\n",
        "from pandas_datareader import data\n",
        "import matplotlib.pyplot as plt\n",
        "import pandas as pd\n",
        "import datetime as dt\n",
        "import urllib.request, json\n",
        "import os\n",
        "import numpy as np\n",
        "import tensorflow as tf\n",
        "from sklearn.preprocessing import MinMaxScaler\n",
        "from keras.models import Sequential\n",
        "from keras.layers import Dense, SimpleRNN, GRU, LSTM, Dropout\n",
        "from keras.metrics import MeanSquaredError"
      ],
      "metadata": {
        "id": "-s-YTRgWEcq5"
      },
      "execution_count": null,
      "outputs": []
    },
    {
      "cell_type": "code",
      "source": [
        "collection_start_date = \"2017-01-01\"\n",
        "collection_end_date = \"2021-11-29\"\n",
        "\n",
        "btc_df = yf.download(tickers='BTC-USD', start = collection_start_date, end = collection_end_date, interval=\"1d\")\n",
        "print(btc_df)"
      ],
      "metadata": {
        "colab": {
          "base_uri": "https://localhost:8080/"
        },
        "id": "z_NmRldZEhKb",
        "outputId": "8409a821-cd12-4043-e3c1-537bd069a82d"
      },
      "execution_count": null,
      "outputs": [
        {
          "output_type": "stream",
          "name": "stdout",
          "text": [
            "\r[*********************100%***********************]  1 of 1 completed\n",
            "                    Open          High  ...     Adj Close       Volume\n",
            "Date                                    ...                           \n",
            "2017-01-01    963.658020   1003.080017  ...    998.325012    147775008\n",
            "2017-01-02    998.617004   1031.390015  ...   1021.750000    222184992\n",
            "2017-01-03   1021.599976   1044.079956  ...   1043.839966    185168000\n",
            "2017-01-04   1044.400024   1159.420044  ...   1154.729980    344945984\n",
            "2017-01-05   1156.729980   1191.099976  ...   1013.380005    510199008\n",
            "...                  ...           ...  ...           ...          ...\n",
            "2021-11-25  57165.417969  59367.968750  ...  57274.679688  34284016248\n",
            "2021-11-26  58960.285156  59183.480469  ...  53569.765625  41810748221\n",
            "2021-11-27  53736.429688  55329.257812  ...  54815.078125  30560857714\n",
            "2021-11-28  54813.023438  57393.843750  ...  57248.457031  28116886357\n",
            "2021-11-29  57291.906250  58872.878906  ...  57806.566406  32370840356\n",
            "\n",
            "[1790 rows x 6 columns]\n"
          ]
        }
      ]
    },
    {
      "cell_type": "code",
      "source": [
        "data = btc_df[['Adj Close','Open', 'High', 'Low', 'Close', 'Volume']].round(2)\n",
        "print(data)\n",
        "data['Mid'] = (data['High'] + data['Low']) / 2\n",
        "data['Mid'].plot()"
      ],
      "metadata": {
        "colab": {
          "base_uri": "https://localhost:8080/",
          "height": 564
        },
        "id": "jwdE7KW5Ejl4",
        "outputId": "a3031438-a894-41ec-961f-90f8ac0d3f06"
      },
      "execution_count": null,
      "outputs": [
        {
          "output_type": "stream",
          "name": "stdout",
          "text": [
            "            Adj Close      Open      High       Low     Close       Volume\n",
            "Date                                                                      \n",
            "2017-01-01     998.33    963.66   1003.08    958.70    998.33    147775008\n",
            "2017-01-02    1021.75    998.62   1031.39    996.70   1021.75    222184992\n",
            "2017-01-03    1043.84   1021.60   1044.08   1021.60   1043.84    185168000\n",
            "2017-01-04    1154.73   1044.40   1159.42   1044.40   1154.73    344945984\n",
            "2017-01-05    1013.38   1156.73   1191.10    910.42   1013.38    510199008\n",
            "...               ...       ...       ...       ...       ...          ...\n",
            "2021-11-25   57274.68  57165.42  59367.97  57146.68  57274.68  34284016248\n",
            "2021-11-26   53569.77  58960.29  59183.48  53569.77  53569.77  41810748221\n",
            "2021-11-27   54815.08  53736.43  55329.26  53668.36  54815.08  30560857714\n",
            "2021-11-28   57248.46  54813.02  57393.84  53576.73  57248.46  28116886357\n",
            "2021-11-29   57806.57  57291.91  58872.88  56792.53  57806.57  32370840356\n",
            "\n",
            "[1790 rows x 6 columns]\n"
          ]
        },
        {
          "output_type": "execute_result",
          "data": {
            "text/plain": [
              "<matplotlib.axes._subplots.AxesSubplot at 0x7f07bb5584d0>"
            ]
          },
          "metadata": {},
          "execution_count": 12
        },
        {
          "output_type": "display_data",
          "data": {
            "image/png": "[encoded data removed]",
            "text/plain": [
              "<Figure size 432x288 with 1 Axes>"
            ]
          },
          "metadata": {
            "needs_background": "light"
          }
        }
      ]
    },
    {
      "cell_type": "code",
      "source": [
        "#normalize and reshape train and test\n",
        "def train_test(data,ts,p):\n",
        "    train = data[:'2021'].iloc[:,0:1].values\n",
        "    test  = data['2021':].iloc[:,0:1].values\n",
        "    train_len = len(train)\n",
        "    test_len = len(test)\n",
        "    sc = MinMaxScaler(feature_range=(0,1))\n",
        "    train_scaled=sc.fit_transform(train)\n",
        "    X_train = []\n",
        "    y_train = []\n",
        "    y_train_stacked = []\n",
        "    for i in range(ts,train_len-1): \n",
        "        X_train.append(train_scaled[i-ts:i,0])\n",
        "        y_train.append(train_scaled[i:i+p,0])\n",
        "    X_train, y_train = np.array(X_train), np.array(y_train)\n",
        "    print(X_train)\n",
        "    X_train = np.reshape(X_train, (X_train.shape[0],X_train.shape[1],1))\n",
        "    inputs = pd.concat((data[\"Mid\"][:'2020'], data[\"Mid\"]['2021':]),axis=0).values\n",
        "    inputs = inputs[len(inputs)-len(test) - ts:]\n",
        "    inputs = inputs.reshape(-1,1)\n",
        "    inputs  = sc.transform(inputs)\n",
        "    X_test = []\n",
        "    for i in range(ts,test_len+ts-p):\n",
        "        X_test.append(inputs[i-ts:i,0])   \n",
        "    X_test = np.array(X_test)\n",
        "    X_test = np.reshape(X_test, (X_test.shape[0],X_test.shape[1],1))\n",
        "    return X_train, y_train , X_test, sc\n",
        "    \n",
        "X_train, y_train, X_test, sc = train_test(data,5,2)\n",
        "print('AFTER RESHAPING...')\n",
        "print(X_train)"
      ],
      "metadata": {
        "id": "_YZPTisCEpMC",
        "colab": {
          "base_uri": "https://localhost:8080/"
        },
        "outputId": "0485c5f9-cf97-4cb1-cae1-ca74721b2951"
      },
      "execution_count": null,
      "outputs": [
        {
          "output_type": "stream",
          "name": "stdout",
          "text": [
            "[[0.00330249 0.00365314 0.00398389 0.00564419 0.00352782]\n",
            " [0.00365314 0.00398389 0.00564419 0.00352782 0.00186318]\n",
            " [0.00398389 0.00564419 0.00352782 0.00186318 0.00195885]\n",
            " ...\n",
            " [0.86769766 0.83114692 0.85030844 0.83101427 0.84590068]\n",
            " [0.83114692 0.85030844 0.83101427 0.84590068 0.79042888]\n",
            " [0.85030844 0.83101427 0.84590068 0.79042888 0.8090743 ]]\n",
            "AFTER RESHAPING...\n",
            "[[[0.00330249]\n",
            "  [0.00365314]\n",
            "  [0.00398389]\n",
            "  [0.00564419]\n",
            "  [0.00352782]]\n",
            "\n",
            " [[0.00365314]\n",
            "  [0.00398389]\n",
            "  [0.00564419]\n",
            "  [0.00352782]\n",
            "  [0.00186318]]\n",
            "\n",
            " [[0.00398389]\n",
            "  [0.00564419]\n",
            "  [0.00352782]\n",
            "  [0.00186318]\n",
            "  [0.00195885]]\n",
            "\n",
            " ...\n",
            "\n",
            " [[0.86769766]\n",
            "  [0.83114692]\n",
            "  [0.85030844]\n",
            "  [0.83101427]\n",
            "  [0.84590068]]\n",
            "\n",
            " [[0.83114692]\n",
            "  [0.85030844]\n",
            "  [0.83101427]\n",
            "  [0.84590068]\n",
            "  [0.79042888]]\n",
            "\n",
            " [[0.85030844]\n",
            "  [0.83101427]\n",
            "  [0.84590068]\n",
            "  [0.79042888]\n",
            "  [0.8090743 ]]]\n"
          ]
        }
      ]
    },
    {
      "cell_type": "code",
      "source": [
        "def model_training(X_train, y_train, X_test, sc):\n",
        "    model = Sequential()\n",
        "    model.add(LSTM(units=50, return_sequences=True, input_shape=(X_train.shape[1],1), activation='tanh'))\n",
        "    model.add(LSTM(units=50, activation='tanh'))\n",
        "    model.add(Dropout(0.2))\n",
        "    model.add(Dense(units=2))\n",
        "    model.compile(optimizer='adam',loss='mean_squared_error')\n",
        "    model.fit(X_train,y_train,epochs=50,batch_size=150)\n",
        "    prediction = model.predict(X_test)\n",
        "    prediction = sc.inverse_transform(prediction)\n",
        "    return model, prediction\n",
        "\n",
        "model, prediction = model_training(X_train, y_train, X_test, sc)"
      ],
      "metadata": {
        "colab": {
          "base_uri": "https://localhost:8080/"
        },
        "id": "Kt3KEbFvEp3y",
        "outputId": "24e8e6e5-e827-47b0-a1d6-51552883ec00"
      },
      "execution_count": null,
      "outputs": [
        {
          "output_type": "stream",
          "name": "stdout",
          "text": [
            "Epoch 1/50\n",
            "12/12 [==============================] - 4s 16ms/step - loss: 0.0705\n",
            "Epoch 2/50\n",
            "12/12 [==============================] - 0s 15ms/step - loss: 0.0246\n",
            "Epoch 3/50\n",
            "12/12 [==============================] - 0s 14ms/step - loss: 0.0091\n",
            "Epoch 4/50\n",
            "12/12 [==============================] - 0s 17ms/step - loss: 0.0030\n",
            "Epoch 5/50\n",
            "12/12 [==============================] - 0s 15ms/step - loss: 0.0027\n",
            "Epoch 6/50\n",
            "12/12 [==============================] - 0s 14ms/step - loss: 0.0022\n",
            "Epoch 7/50\n",
            "12/12 [==============================] - 0s 15ms/step - loss: 0.0020\n",
            "Epoch 8/50\n",
            "12/12 [==============================] - 0s 15ms/step - loss: 0.0021\n",
            "Epoch 9/50\n",
            "12/12 [==============================] - 0s 14ms/step - loss: 0.0021\n",
            "Epoch 10/50\n",
            "12/12 [==============================] - 0s 15ms/step - loss: 0.0019\n",
            "Epoch 11/50\n",
            "12/12 [==============================] - 0s 15ms/step - loss: 0.0019\n",
            "Epoch 12/50\n",
            "12/12 [==============================] - 0s 15ms/step - loss: 0.0017\n",
            "Epoch 13/50\n",
            "12/12 [==============================] - 0s 14ms/step - loss: 0.0017\n",
            "Epoch 14/50\n",
            "12/12 [==============================] - 0s 14ms/step - loss: 0.0016\n",
            "Epoch 15/50\n",
            "12/12 [==============================] - 0s 16ms/step - loss: 0.0018\n",
            "Epoch 16/50\n",
            "12/12 [==============================] - 0s 16ms/step - loss: 0.0017\n",
            "Epoch 17/50\n",
            "12/12 [==============================] - 0s 14ms/step - loss: 0.0017\n",
            "Epoch 18/50\n",
            "12/12 [==============================] - 0s 14ms/step - loss: 0.0015\n",
            "Epoch 19/50\n",
            "12/12 [==============================] - 0s 13ms/step - loss: 0.0017\n",
            "Epoch 20/50\n",
            "12/12 [==============================] - 0s 14ms/step - loss: 0.0018\n",
            "Epoch 21/50\n",
            "12/12 [==============================] - 0s 16ms/step - loss: 0.0014\n",
            "Epoch 22/50\n",
            "12/12 [==============================] - 0s 14ms/step - loss: 0.0016\n",
            "Epoch 23/50\n",
            "12/12 [==============================] - 0s 14ms/step - loss: 0.0015\n",
            "Epoch 24/50\n",
            "12/12 [==============================] - 0s 14ms/step - loss: 0.0015\n",
            "Epoch 25/50\n",
            "12/12 [==============================] - 0s 14ms/step - loss: 0.0016\n",
            "Epoch 26/50\n",
            "12/12 [==============================] - 0s 14ms/step - loss: 0.0015\n",
            "Epoch 27/50\n",
            "12/12 [==============================] - 0s 13ms/step - loss: 0.0014\n",
            "Epoch 28/50\n",
            "12/12 [==============================] - 0s 15ms/step - loss: 0.0015\n",
            "Epoch 29/50\n",
            "12/12 [==============================] - 0s 14ms/step - loss: 0.0014\n",
            "Epoch 30/50\n",
            "12/12 [==============================] - 0s 13ms/step - loss: 0.0015\n",
            "Epoch 31/50\n",
            "12/12 [==============================] - 0s 13ms/step - loss: 0.0014\n",
            "Epoch 32/50\n",
            "12/12 [==============================] - 0s 13ms/step - loss: 0.0015\n",
            "Epoch 33/50\n",
            "12/12 [==============================] - 0s 15ms/step - loss: 0.0012\n",
            "Epoch 34/50\n",
            "12/12 [==============================] - 0s 13ms/step - loss: 0.0014\n",
            "Epoch 35/50\n",
            "12/12 [==============================] - 0s 14ms/step - loss: 0.0013\n",
            "Epoch 36/50\n",
            "12/12 [==============================] - 0s 13ms/step - loss: 0.0013\n",
            "Epoch 37/50\n",
            "12/12 [==============================] - 0s 14ms/step - loss: 0.0013\n",
            "Epoch 38/50\n",
            "12/12 [==============================] - 0s 13ms/step - loss: 0.0014\n",
            "Epoch 39/50\n",
            "12/12 [==============================] - 0s 14ms/step - loss: 0.0014\n",
            "Epoch 40/50\n",
            "12/12 [==============================] - 0s 14ms/step - loss: 0.0015\n",
            "Epoch 41/50\n",
            "12/12 [==============================] - 0s 13ms/step - loss: 0.0013\n",
            "Epoch 42/50\n",
            "12/12 [==============================] - 0s 14ms/step - loss: 0.0012\n",
            "Epoch 43/50\n",
            "12/12 [==============================] - 0s 13ms/step - loss: 0.0012\n",
            "Epoch 44/50\n",
            "12/12 [==============================] - 0s 13ms/step - loss: 0.0013\n",
            "Epoch 45/50\n",
            "12/12 [==============================] - 0s 13ms/step - loss: 0.0012\n",
            "Epoch 46/50\n",
            "12/12 [==============================] - 0s 14ms/step - loss: 0.0012\n",
            "Epoch 47/50\n",
            "12/12 [==============================] - 0s 14ms/step - loss: 0.0013\n",
            "Epoch 48/50\n",
            "12/12 [==============================] - 0s 14ms/step - loss: 0.0013\n",
            "Epoch 49/50\n",
            "12/12 [==============================] - 0s 14ms/step - loss: 0.0013\n",
            "Epoch 50/50\n",
            "12/12 [==============================] - 0s 13ms/step - loss: 0.0014\n"
          ]
        }
      ]
    },
    {
      "cell_type": "code",
      "source": [
        "def y_yhat_plot(preds):\n",
        "    y_yhat = pd.DataFrame(columns = ['Mid', 'prediction'])\n",
        "    y_yhat['Mid'] = data.loc['2021':,'Mid'][0:len(preds)]\n",
        "    y_yhat['prediction'] = preds[:,0]\n",
        "    m = MeanSquaredError()\n",
        "    m.update_state(np.array(y_yhat['Mid']),np.array(y_yhat['prediction'])) \n",
        "    return (m.result().numpy(), y_yhat.plot() )\n",
        "\n",
        "print(data['Mid'])\n",
        "y_yhat_plot(prediction)  "
      ],
      "metadata": {
        "colab": {
          "base_uri": "https://localhost:8080/",
          "height": 546
        },
        "id": "iUalhzyDEsY4",
        "outputId": "11ca102c-5691-45c3-d139-14354c6e911f"
      },
      "execution_count": null,
      "outputs": [
        {
          "output_type": "stream",
          "name": "stdout",
          "text": [
            "Date\n",
            "2017-01-01      980.890\n",
            "2017-01-02     1014.045\n",
            "2017-01-03     1032.840\n",
            "2017-01-04     1101.910\n",
            "2017-01-05     1050.760\n",
            "                ...    \n",
            "2021-11-25    58257.325\n",
            "2021-11-26    56376.625\n",
            "2021-11-27    54498.810\n",
            "2021-11-28    55485.285\n",
            "2021-11-29    57832.705\n",
            "Name: Mid, Length: 1790, dtype: float64\n"
          ]
        },
        {
          "output_type": "execute_result",
          "data": {
            "text/plain": [
              "(8421465.0, <matplotlib.axes._subplots.AxesSubplot at 0x7f07b70a1690>)"
            ]
          },
          "metadata": {},
          "execution_count": 15
        },
        {
          "output_type": "display_data",
          "data": {
            "image/png": "[encoded data removed]",
            "text/plain": [
              "<Figure size 432x288 with 1 Axes>"
            ]
          },
          "metadata": {
            "needs_background": "light"
          }
        }
      ]
    },
    {
      "cell_type": "markdown",
      "source": [
        "# Example Forcasting Method"
      ],
      "metadata": {
        "id": "XZ6WoTEKFgAc"
      }
    },
    {
      "cell_type": "markdown",
      "source": [
        "Our group also developed a prediction model that is more simple, but does not predict further than one time step. It uses an averaging technique. It represents future stock prices as an average of the previous stock prices. We used the previous two days to represent the future price, because any larger of a window size gave results that we found to be unacceptable. "
      ],
      "metadata": {
        "id": "YHeyMAjS-Sim"
      }
    },
    {
      "cell_type": "code",
      "source": [
        "!pip install yfinance\n",
        "!pip install yfinancials\n",
        "!pip install yahoofinancials\n",
        "!pip install pytorch-forecasting\n",
        "# !pip install --upgrade mxnet==1.6.0\n",
        "# !pip install gluonts\n",
        "# !pip install deepar\n",
        "# !pip install deepar.dataset.time_series\n",
        "# !pip install pytorch-forecasting\n"
      ],
      "metadata": {
        "colab": {
          "base_uri": "https://localhost:8080/",
          "height": 1000
        },
        "id": "aW8l4eAFFmga",
        "outputId": "fbfb61ee-1489-4595-90ff-dcd3bb53a2b6"
      },
      "execution_count": null,
      "outputs": [
        {
          "output_type": "stream",
          "name": "stdout",
          "text": [
            "Requirement already satisfied: yfinance in /usr/local/lib/python3.7/dist-packages (0.1.67)\n",
            "Requirement already satisfied: requests>=2.20 in /usr/local/lib/python3.7/dist-packages (from yfinance) (2.23.0)\n",
            "Requirement already satisfied: numpy>=1.15 in /usr/local/lib/python3.7/dist-packages (from yfinance) (1.19.5)\n",
            "Requirement already satisfied: multitasking>=0.0.7 in /usr/local/lib/python3.7/dist-packages (from yfinance) (0.0.10)\n",
            "Requirement already satisfied: pandas>=0.24 in /usr/local/lib/python3.7/dist-packages (from yfinance) (1.1.5)\n",
            "Requirement already satisfied: lxml>=4.5.1 in /usr/local/lib/python3.7/dist-packages (from yfinance) (4.6.5)\n",
            "Requirement already satisfied: python-dateutil>=2.7.3 in /usr/local/lib/python3.7/dist-packages (from pandas>=0.24->yfinance) (2.8.2)\n",
            "Requirement already satisfied: pytz>=2017.2 in /usr/local/lib/python3.7/dist-packages (from pandas>=0.24->yfinance) (2018.9)\n",
            "Requirement already satisfied: six>=1.5 in /usr/local/lib/python3.7/dist-packages (from python-dateutil>=2.7.3->pandas>=0.24->yfinance) (1.15.0)\n",
            "Requirement already satisfied: urllib3!=1.25.0,!=1.25.1,<1.26,>=1.21.1 in /usr/local/lib/python3.7/dist-packages (from requests>=2.20->yfinance) (1.24.3)\n",
            "Requirement already satisfied: certifi>=2017.4.17 in /usr/local/lib/python3.7/dist-packages (from requests>=2.20->yfinance) (2021.10.8)\n",
            "Requirement already satisfied: chardet<4,>=3.0.2 in /usr/local/lib/python3.7/dist-packages (from requests>=2.20->yfinance) (3.0.4)\n",
            "Requirement already satisfied: idna<3,>=2.5 in /usr/local/lib/python3.7/dist-packages (from requests>=2.20->yfinance) (2.10)\n",
            "\u001b[31mERROR: Could not find a version that satisfies the requirement yfinancials (from versions: none)\u001b[0m\n",
            "\u001b[31mERROR: No matching distribution found for yfinancials\u001b[0m\n",
            "Requirement already satisfied: yahoofinancials in /usr/local/lib/python3.7/dist-packages (1.6)\n",
            "Requirement already satisfied: beautifulsoup4 in /usr/local/lib/python3.7/dist-packages (from yahoofinancials) (4.6.3)\n",
            "Requirement already satisfied: pytz in /usr/local/lib/python3.7/dist-packages (from yahoofinancials) (2018.9)\n",
            "Collecting pytorch-forecasting\n",
            "  Downloading pytorch_forecasting-0.9.2-py3-none-any.whl (113 kB)\n",
            "\u001b[K     |████████████████████████████████| 113 kB 26.0 MB/s \n",
            "\u001b[?25hRequirement already satisfied: scikit-learn<1.1,>=0.24 in /usr/local/lib/python3.7/dist-packages (from pytorch-forecasting) (1.0.1)\n",
            "Requirement already satisfied: scipy in /usr/local/lib/python3.7/dist-packages (from pytorch-forecasting) (1.4.1)\n",
            "Collecting pytorch-lightning<2.0.0,>=1.2.4\n",
            "  Downloading pytorch_lightning-1.5.5-py3-none-any.whl (525 kB)\n",
            "\u001b[K     |████████████████████████████████| 525 kB 32.2 MB/s \n",
            "\u001b[?25hRequirement already satisfied: matplotlib in /usr/local/lib/python3.7/dist-packages (from pytorch-forecasting) (3.2.2)\n",
            "Collecting optuna<3.0.0,>=2.3.0\n",
            "  Downloading optuna-2.10.0-py3-none-any.whl (308 kB)\n",
            "\u001b[K     |████████████████████████████████| 308 kB 41.8 MB/s \n",
            "\u001b[?25hCollecting pandas<2.0.0,>=1.3.0\n",
            "  Downloading pandas-1.3.5-cp37-cp37m-manylinux_2_17_x86_64.manylinux2014_x86_64.whl (11.3 MB)\n",
            "\u001b[K     |████████████████████████████████| 11.3 MB 29.4 MB/s \n",
            "\u001b[?25hRequirement already satisfied: statsmodels in /usr/local/lib/python3.7/dist-packages (from pytorch-forecasting) (0.10.2)\n",
            "Requirement already satisfied: torch<2.0,>=1.7 in /usr/local/lib/python3.7/dist-packages (from pytorch-forecasting) (1.10.0+cu111)\n",
            "Collecting alembic\n",
            "  Downloading alembic-1.7.5-py3-none-any.whl (209 kB)\n",
            "\u001b[K     |████████████████████████████████| 209 kB 64.7 MB/s \n",
            "\u001b[?25hRequirement already satisfied: numpy in /usr/local/lib/python3.7/dist-packages (from optuna<3.0.0,>=2.3.0->pytorch-forecasting) (1.19.5)\n",
            "Requirement already satisfied: sqlalchemy>=1.1.0 in /usr/local/lib/python3.7/dist-packages (from optuna<3.0.0,>=2.3.0->pytorch-forecasting) (1.4.27)\n",
            "Collecting colorlog\n",
            "  Downloading colorlog-6.6.0-py2.py3-none-any.whl (11 kB)\n",
            "Requirement already satisfied: tqdm in /usr/local/lib/python3.7/dist-packages (from optuna<3.0.0,>=2.3.0->pytorch-forecasting) (4.62.3)\n",
            "Requirement already satisfied: PyYAML in /usr/local/lib/python3.7/dist-packages (from optuna<3.0.0,>=2.3.0->pytorch-forecasting) (3.13)\n",
            "Requirement already satisfied: packaging>=20.0 in /usr/local/lib/python3.7/dist-packages (from optuna<3.0.0,>=2.3.0->pytorch-forecasting) (21.3)\n",
            "Collecting cmaes>=0.8.2\n",
            "  Downloading cmaes-0.8.2-py3-none-any.whl (15 kB)\n",
            "Collecting cliff\n",
            "  Downloading cliff-3.10.0-py3-none-any.whl (80 kB)\n",
            "\u001b[K     |████████████████████████████████| 80 kB 7.6 MB/s \n",
            "\u001b[?25hRequirement already satisfied: pyparsing!=3.0.5,>=2.0.2 in /usr/local/lib/python3.7/dist-packages (from packaging>=20.0->optuna<3.0.0,>=2.3.0->pytorch-forecasting) (3.0.6)\n",
            "Requirement already satisfied: pytz>=2017.3 in /usr/local/lib/python3.7/dist-packages (from pandas<2.0.0,>=1.3.0->pytorch-forecasting) (2018.9)\n",
            "Requirement already satisfied: python-dateutil>=2.7.3 in /usr/local/lib/python3.7/dist-packages (from pandas<2.0.0,>=1.3.0->pytorch-forecasting) (2.8.2)\n",
            "Requirement already satisfied: six>=1.5 in /usr/local/lib/python3.7/dist-packages (from python-dateutil>=2.7.3->pandas<2.0.0,>=1.3.0->pytorch-forecasting) (1.15.0)\n",
            "Requirement already satisfied: typing-extensions in /usr/local/lib/python3.7/dist-packages (from pytorch-lightning<2.0.0,>=1.2.4->pytorch-forecasting) (3.10.0.2)\n",
            "Requirement already satisfied: tensorboard>=2.2.0 in /usr/local/lib/python3.7/dist-packages (from pytorch-lightning<2.0.0,>=1.2.4->pytorch-forecasting) (2.7.0)\n",
            "Collecting fsspec[http]!=2021.06.0,>=2021.05.0\n",
            "  Downloading fsspec-2021.11.1-py3-none-any.whl (132 kB)\n",
            "\u001b[K     |████████████████████████████████| 132 kB 61.2 MB/s \n",
            "\u001b[?25hCollecting future>=0.17.1\n",
            "  Downloading future-0.18.2.tar.gz (829 kB)\n",
            "\u001b[K     |████████████████████████████████| 829 kB 45.9 MB/s \n",
            "\u001b[?25hCollecting torchmetrics>=0.4.1\n",
            "  Downloading torchmetrics-0.6.1-py3-none-any.whl (332 kB)\n",
            "\u001b[K     |████████████████████████████████| 332 kB 64.9 MB/s \n",
            "\u001b[?25hCollecting pyDeprecate==0.3.1\n",
            "  Downloading pyDeprecate-0.3.1-py3-none-any.whl (10 kB)\n",
            "Collecting PyYAML\n",
            "  Downloading PyYAML-6.0-cp37-cp37m-manylinux_2_5_x86_64.manylinux1_x86_64.manylinux_2_12_x86_64.manylinux2010_x86_64.whl (596 kB)\n",
            "\u001b[K     |████████████████████████████████| 596 kB 35.6 MB/s \n",
            "\u001b[?25hRequirement already satisfied: requests in /usr/local/lib/python3.7/dist-packages (from fsspec[http]!=2021.06.0,>=2021.05.0->pytorch-lightning<2.0.0,>=1.2.4->pytorch-forecasting) (2.23.0)\n",
            "Collecting aiohttp\n",
            "  Downloading aiohttp-3.8.1-cp37-cp37m-manylinux_2_5_x86_64.manylinux1_x86_64.manylinux_2_12_x86_64.manylinux2010_x86_64.whl (1.1 MB)\n",
            "\u001b[K     |████████████████████████████████| 1.1 MB 33.7 MB/s \n",
            "\u001b[?25hRequirement already satisfied: joblib>=0.11 in /usr/local/lib/python3.7/dist-packages (from scikit-learn<1.1,>=0.24->pytorch-forecasting) (1.1.0)\n",
            "Requirement already satisfied: threadpoolctl>=2.0.0 in /usr/local/lib/python3.7/dist-packages (from scikit-learn<1.1,>=0.24->pytorch-forecasting) (3.0.0)\n",
            "Requirement already satisfied: importlib-metadata in /usr/local/lib/python3.7/dist-packages (from sqlalchemy>=1.1.0->optuna<3.0.0,>=2.3.0->pytorch-forecasting) (4.8.2)\n",
            "Requirement already satisfied: greenlet!=0.4.17 in /usr/local/lib/python3.7/dist-packages (from sqlalchemy>=1.1.0->optuna<3.0.0,>=2.3.0->pytorch-forecasting) (1.1.2)\n",
            "Requirement already satisfied: protobuf>=3.6.0 in /usr/local/lib/python3.7/dist-packages (from tensorboard>=2.2.0->pytorch-lightning<2.0.0,>=1.2.4->pytorch-forecasting) (3.17.3)\n",
            "Requirement already satisfied: markdown>=2.6.8 in /usr/local/lib/python3.7/dist-packages (from tensorboard>=2.2.0->pytorch-lightning<2.0.0,>=1.2.4->pytorch-forecasting) (3.3.6)\n",
            "Requirement already satisfied: tensorboard-data-server<0.7.0,>=0.6.0 in /usr/local/lib/python3.7/dist-packages (from tensorboard>=2.2.0->pytorch-lightning<2.0.0,>=1.2.4->pytorch-forecasting) (0.6.1)\n",
            "Requirement already satisfied: tensorboard-plugin-wit>=1.6.0 in /usr/local/lib/python3.7/dist-packages (from tensorboard>=2.2.0->pytorch-lightning<2.0.0,>=1.2.4->pytorch-forecasting) (1.8.0)\n",
            "Requirement already satisfied: google-auth-oauthlib<0.5,>=0.4.1 in /usr/local/lib/python3.7/dist-packages (from tensorboard>=2.2.0->pytorch-lightning<2.0.0,>=1.2.4->pytorch-forecasting) (0.4.6)\n",
            "Requirement already satisfied: google-auth<3,>=1.6.3 in /usr/local/lib/python3.7/dist-packages (from tensorboard>=2.2.0->pytorch-lightning<2.0.0,>=1.2.4->pytorch-forecasting) (1.35.0)\n",
            "Requirement already satisfied: werkzeug>=0.11.15 in /usr/local/lib/python3.7/dist-packages (from tensorboard>=2.2.0->pytorch-lightning<2.0.0,>=1.2.4->pytorch-forecasting) (1.0.1)\n",
            "Requirement already satisfied: absl-py>=0.4 in /usr/local/lib/python3.7/dist-packages (from tensorboard>=2.2.0->pytorch-lightning<2.0.0,>=1.2.4->pytorch-forecasting) (0.12.0)\n",
            "Requirement already satisfied: setuptools>=41.0.0 in /usr/local/lib/python3.7/dist-packages (from tensorboard>=2.2.0->pytorch-lightning<2.0.0,>=1.2.4->pytorch-forecasting) (57.4.0)\n",
            "Requirement already satisfied: wheel>=0.26 in /usr/local/lib/python3.7/dist-packages (from tensorboard>=2.2.0->pytorch-lightning<2.0.0,>=1.2.4->pytorch-forecasting) (0.37.0)\n",
            "Requirement already satisfied: grpcio>=1.24.3 in /usr/local/lib/python3.7/dist-packages (from tensorboard>=2.2.0->pytorch-lightning<2.0.0,>=1.2.4->pytorch-forecasting) (1.42.0)\n",
            "Requirement already satisfied: rsa<5,>=3.1.4 in /usr/local/lib/python3.7/dist-packages (from google-auth<3,>=1.6.3->tensorboard>=2.2.0->pytorch-lightning<2.0.0,>=1.2.4->pytorch-forecasting) (4.8)\n",
            "Requirement already satisfied: pyasn1-modules>=0.2.1 in /usr/local/lib/python3.7/dist-packages (from google-auth<3,>=1.6.3->tensorboard>=2.2.0->pytorch-lightning<2.0.0,>=1.2.4->pytorch-forecasting) (0.2.8)\n",
            "Requirement already satisfied: cachetools<5.0,>=2.0.0 in /usr/local/lib/python3.7/dist-packages (from google-auth<3,>=1.6.3->tensorboard>=2.2.0->pytorch-lightning<2.0.0,>=1.2.4->pytorch-forecasting) (4.2.4)\n",
            "Requirement already satisfied: requests-oauthlib>=0.7.0 in /usr/local/lib/python3.7/dist-packages (from google-auth-oauthlib<0.5,>=0.4.1->tensorboard>=2.2.0->pytorch-lightning<2.0.0,>=1.2.4->pytorch-forecasting) (1.3.0)\n",
            "Requirement already satisfied: zipp>=0.5 in /usr/local/lib/python3.7/dist-packages (from importlib-metadata->sqlalchemy>=1.1.0->optuna<3.0.0,>=2.3.0->pytorch-forecasting) (3.6.0)\n",
            "Requirement already satisfied: pyasn1<0.5.0,>=0.4.6 in /usr/local/lib/python3.7/dist-packages (from pyasn1-modules>=0.2.1->google-auth<3,>=1.6.3->tensorboard>=2.2.0->pytorch-lightning<2.0.0,>=1.2.4->pytorch-forecasting) (0.4.8)\n",
            "Requirement already satisfied: chardet<4,>=3.0.2 in /usr/local/lib/python3.7/dist-packages (from requests->fsspec[http]!=2021.06.0,>=2021.05.0->pytorch-lightning<2.0.0,>=1.2.4->pytorch-forecasting) (3.0.4)\n",
            "Requirement already satisfied: idna<3,>=2.5 in /usr/local/lib/python3.7/dist-packages (from requests->fsspec[http]!=2021.06.0,>=2021.05.0->pytorch-lightning<2.0.0,>=1.2.4->pytorch-forecasting) (2.10)\n",
            "Requirement already satisfied: urllib3!=1.25.0,!=1.25.1,<1.26,>=1.21.1 in /usr/local/lib/python3.7/dist-packages (from requests->fsspec[http]!=2021.06.0,>=2021.05.0->pytorch-lightning<2.0.0,>=1.2.4->pytorch-forecasting) (1.24.3)\n",
            "Requirement already satisfied: certifi>=2017.4.17 in /usr/local/lib/python3.7/dist-packages (from requests->fsspec[http]!=2021.06.0,>=2021.05.0->pytorch-lightning<2.0.0,>=1.2.4->pytorch-forecasting) (2021.10.8)\n",
            "Requirement already satisfied: oauthlib>=3.0.0 in /usr/local/lib/python3.7/dist-packages (from requests-oauthlib>=0.7.0->google-auth-oauthlib<0.5,>=0.4.1->tensorboard>=2.2.0->pytorch-lightning<2.0.0,>=1.2.4->pytorch-forecasting) (3.1.1)\n",
            "Collecting frozenlist>=1.1.1\n",
            "  Downloading frozenlist-1.2.0-cp37-cp37m-manylinux_2_5_x86_64.manylinux1_x86_64.manylinux_2_12_x86_64.manylinux2010_x86_64.whl (192 kB)\n",
            "\u001b[K     |████████████████████████████████| 192 kB 68.0 MB/s \n",
            "\u001b[?25hCollecting yarl<2.0,>=1.0\n",
            "  Downloading yarl-1.7.2-cp37-cp37m-manylinux_2_5_x86_64.manylinux1_x86_64.manylinux_2_12_x86_64.manylinux2010_x86_64.whl (271 kB)\n",
            "\u001b[K     |████████████████████████████████| 271 kB 63.6 MB/s \n",
            "\u001b[?25hCollecting asynctest==0.13.0\n",
            "  Downloading asynctest-0.13.0-py3-none-any.whl (26 kB)\n",
            "Collecting aiosignal>=1.1.2\n",
            "  Downloading aiosignal-1.2.0-py3-none-any.whl (8.2 kB)\n",
            "Requirement already satisfied: charset-normalizer<3.0,>=2.0 in /usr/local/lib/python3.7/dist-packages (from aiohttp->fsspec[http]!=2021.06.0,>=2021.05.0->pytorch-lightning<2.0.0,>=1.2.4->pytorch-forecasting) (2.0.8)\n",
            "Collecting async-timeout<5.0,>=4.0.0a3\n",
            "  Downloading async_timeout-4.0.1-py3-none-any.whl (5.7 kB)\n",
            "Collecting multidict<7.0,>=4.5\n",
            "  Downloading multidict-5.2.0-cp37-cp37m-manylinux_2_5_x86_64.manylinux1_x86_64.manylinux_2_12_x86_64.manylinux2010_x86_64.whl (160 kB)\n",
            "\u001b[K     |████████████████████████████████| 160 kB 64.3 MB/s \n",
            "\u001b[?25hRequirement already satisfied: attrs>=17.3.0 in /usr/local/lib/python3.7/dist-packages (from aiohttp->fsspec[http]!=2021.06.0,>=2021.05.0->pytorch-lightning<2.0.0,>=1.2.4->pytorch-forecasting) (21.2.0)\n",
            "Collecting Mako\n",
            "  Downloading Mako-1.1.6-py2.py3-none-any.whl (75 kB)\n",
            "\u001b[K     |████████████████████████████████| 75 kB 3.9 MB/s \n",
            "\u001b[?25hRequirement already satisfied: importlib-resources in /usr/local/lib/python3.7/dist-packages (from alembic->optuna<3.0.0,>=2.3.0->pytorch-forecasting) (5.4.0)\n",
            "Collecting autopage>=0.4.0\n",
            "  Downloading autopage-0.4.0-py3-none-any.whl (20 kB)\n",
            "Requirement already satisfied: PrettyTable>=0.7.2 in /usr/local/lib/python3.7/dist-packages (from cliff->optuna<3.0.0,>=2.3.0->pytorch-forecasting) (2.4.0)\n",
            "Collecting pbr!=2.1.0,>=2.0.0\n",
            "  Downloading pbr-5.8.0-py2.py3-none-any.whl (112 kB)\n",
            "\u001b[K     |████████████████████████████████| 112 kB 40.6 MB/s \n",
            "\u001b[?25hCollecting cmd2>=1.0.0\n",
            "  Downloading cmd2-2.3.3-py3-none-any.whl (149 kB)\n",
            "\u001b[K     |████████████████████████████████| 149 kB 55.0 MB/s \n",
            "\u001b[?25hCollecting stevedore>=2.0.1\n",
            "  Downloading stevedore-3.5.0-py3-none-any.whl (49 kB)\n",
            "\u001b[K     |████████████████████████████████| 49 kB 5.5 MB/s \n",
            "\u001b[?25hCollecting pyperclip>=1.6\n",
            "  Downloading pyperclip-1.8.2.tar.gz (20 kB)\n",
            "Requirement already satisfied: wcwidth>=0.1.7 in /usr/local/lib/python3.7/dist-packages (from cmd2>=1.0.0->cliff->optuna<3.0.0,>=2.3.0->pytorch-forecasting) (0.2.5)\n",
            "Requirement already satisfied: MarkupSafe>=0.9.2 in /usr/local/lib/python3.7/dist-packages (from Mako->alembic->optuna<3.0.0,>=2.3.0->pytorch-forecasting) (2.0.1)\n",
            "Requirement already satisfied: cycler>=0.10 in /usr/local/lib/python3.7/dist-packages (from matplotlib->pytorch-forecasting) (0.11.0)\n",
            "Requirement already satisfied: kiwisolver>=1.0.1 in /usr/local/lib/python3.7/dist-packages (from matplotlib->pytorch-forecasting) (1.3.2)\n",
            "Requirement already satisfied: patsy>=0.4.0 in /usr/local/lib/python3.7/dist-packages (from statsmodels->pytorch-forecasting) (0.5.2)\n",
            "Building wheels for collected packages: future, pyperclip\n",
            "  Building wheel for future (setup.py) ... \u001b[?25l\u001b[?25hdone\n",
            "  Created wheel for future: filename=future-0.18.2-py3-none-any.whl size=491070 sha256=58eb1d9f69ee510b1a776bbb9b391ecdd84e39f4320bcbe5807eaff333ab4e3a\n",
            "  Stored in directory: /root/.cache/pip/wheels/56/b0/fe/4410d17b32f1f0c3cf54cdfb2bc04d7b4b8f4ae377e2229ba0\n",
            "  Building wheel for pyperclip (setup.py) ... \u001b[?25l\u001b[?25hdone\n",
            "  Created wheel for pyperclip: filename=pyperclip-1.8.2-py3-none-any.whl size=11136 sha256=4a0834878037cdbab47366256778ecfebd09ecfa7918a0516a60ce22cb47866e\n",
            "  Stored in directory: /root/.cache/pip/wheels/9f/18/84/8f69f8b08169c7bae2dde6bd7daf0c19fca8c8e500ee620a28\n",
            "Successfully built future pyperclip\n",
            "Installing collected packages: multidict, frozenlist, yarl, pyperclip, pbr, asynctest, async-timeout, aiosignal, stevedore, PyYAML, Mako, fsspec, cmd2, autopage, aiohttp, torchmetrics, pyDeprecate, pandas, future, colorlog, cmaes, cliff, alembic, pytorch-lightning, optuna, pytorch-forecasting\n",
            "  Attempting uninstall: PyYAML\n",
            "    Found existing installation: PyYAML 3.13\n",
            "    Uninstalling PyYAML-3.13:\n",
            "      Successfully uninstalled PyYAML-3.13\n",
            "  Attempting uninstall: pandas\n",
            "    Found existing installation: pandas 1.1.5\n",
            "    Uninstalling pandas-1.1.5:\n",
            "      Successfully uninstalled pandas-1.1.5\n",
            "  Attempting uninstall: future\n",
            "    Found existing installation: future 0.16.0\n",
            "    Uninstalling future-0.16.0:\n",
            "      Successfully uninstalled future-0.16.0\n",
            "\u001b[31mERROR: pip's dependency resolver does not currently take into account all the packages that are installed. This behaviour is the source of the following dependency conflicts.\n",
            "google-colab 1.0.0 requires pandas~=1.1.0; python_version >= \"3.0\", but you have pandas 1.3.5 which is incompatible.\u001b[0m\n",
            "Successfully installed Mako-1.1.6 PyYAML-6.0 aiohttp-3.8.1 aiosignal-1.2.0 alembic-1.7.5 async-timeout-4.0.1 asynctest-0.13.0 autopage-0.4.0 cliff-3.10.0 cmaes-0.8.2 cmd2-2.3.3 colorlog-6.6.0 frozenlist-1.2.0 fsspec-2021.11.1 future-0.18.2 multidict-5.2.0 optuna-2.10.0 pandas-1.3.5 pbr-5.8.0 pyDeprecate-0.3.1 pyperclip-1.8.2 pytorch-forecasting-0.9.2 pytorch-lightning-1.5.5 stevedore-3.5.0 torchmetrics-0.6.1 yarl-1.7.2\n"
          ]
        },
        {
          "output_type": "display_data",
          "data": {
            "application/vnd.colab-display-data+json": {
              "pip_warning": {
                "packages": [
                  "pandas"
                ]
              }
            }
          },
          "metadata": {}
        }
      ]
    },
    {
      "cell_type": "code",
      "source": [
        "# Make sure that you have all these libaries available to run the code successfully\n",
        "from yahoofinancials import YahooFinancials\n",
        "from pandas_datareader import data\n",
        "import matplotlib.pyplot as plt\n",
        "import pandas as pd\n",
        "import datetime as dt\n",
        "import urllib.request, json\n",
        "import os\n",
        "import numpy as np\n",
        "import tensorflow as tf # This code has been tested with TensorFlow 1.6\n",
        "from sklearn.preprocessing import MinMaxScaler"
      ],
      "metadata": {
        "id": "6wpP22r2Fqun"
      },
      "execution_count": null,
      "outputs": []
    },
    {
      "cell_type": "code",
      "source": [
        "collection_start_date = \"2021-09-10\"\n",
        "collection_end_date = \"2021-10-31\"\n",
        "\n",
        "yahoo_financials = YahooFinancials('BTC-USD')\n",
        "data=yahoo_financials.get_historical_price_data(collection_start_date, collection_end_date, \"daily\")\n",
        "btc_df = pd.DataFrame(data['BTC-USD']['prices'])\n",
        "# btc_df = btc_df.drop('date', axis=1).set_index('formatted_date')\n",
        "\n",
        "btc_df.drop(['date','open','close','volume','adjclose'], axis=1, inplace=True)\n",
        "#X = btc_df['formatted_date']\n",
        "#Y = btc_df['high']\n",
        "btc_df.columns = ['high','low','date']\n",
        "\n",
        "btc_df['date'] = pd.to_datetime(btc_df['date'], format=\"%Y-%m-%d\")\n",
        "\n",
        "#btc_df['y'] = np.log(btc_df['y'])\n",
        "print(btc_df.head())"
      ],
      "metadata": {
        "colab": {
          "base_uri": "https://localhost:8080/"
        },
        "id": "iHoLlDDzFu6K",
        "outputId": "3a80d987-7e24-4738-8c3f-6b5b068d2090"
      },
      "execution_count": null,
      "outputs": [
        {
          "output_type": "stream",
          "name": "stdout",
          "text": [
            "           high           low       date\n",
            "0  47031.742188  44344.484375 2021-09-10\n",
            "1  45969.292969  44818.265625 2021-09-11\n",
            "2  46364.878906  44790.460938 2021-09-12\n",
            "3  46598.679688  43591.320312 2021-09-13\n",
            "4  47218.125000  44752.332031 2021-09-14\n"
          ]
        }
      ]
    },
    {
      "cell_type": "code",
      "source": [
        "data = btc_df\n",
        "# add time index\n",
        "count = 0\n",
        "#data.insert(0, 'time_idx', range(0, len(data)))\n",
        "# print(data)"
      ],
      "metadata": {
        "id": "hqc0bwrhFxMi"
      },
      "execution_count": null,
      "outputs": []
    },
    {
      "cell_type": "code",
      "source": [
        "# # Sort DataFrame by date\n",
        "df = data\n",
        "# df = df.sort_values('date')\n",
        "\n",
        "# # Double check the result\n",
        "# print(df.head())"
      ],
      "metadata": {
        "id": "ONLSRJEsF1WB"
      },
      "execution_count": null,
      "outputs": []
    },
    {
      "cell_type": "code",
      "source": [
        "plt.figure(figsize = (18,9))\n",
        "plt.plot(range(df.shape[0]),((df['high']+df['low'])/2.0))\n",
        "plt.xticks(range(0,df.shape[0],500),df['date'].loc[::500],rotation=45)\n",
        "plt.xlabel('Date',fontsize=18)\n",
        "plt.ylabel('Mid Price',fontsize=18)\n",
        "plt.show()"
      ],
      "metadata": {
        "colab": {
          "base_uri": "https://localhost:8080/",
          "height": 630
        },
        "id": "gdr_xGJOF3-f",
        "outputId": "bc9dee42-909b-418c-eae5-c276e90b8bbe"
      },
      "execution_count": null,
      "outputs": [
        {
          "output_type": "display_data",
          "data": {
            "image/png": "[encoded data removed]",
            "text/plain": [
              "<Figure size 1296x648 with 1 Axes>"
            ]
          },
          "metadata": {
            "needs_background": "light"
          }
        }
      ]
    },
    {
      "cell_type": "code",
      "source": [
        "# First calculate the mid prices from the highest and lowest\n",
        "high_prices = df.loc[:,'high'].to_numpy()\n",
        "low_prices = df.loc[:,'low'].to_numpy()\n",
        "mid_prices = (high_prices+low_prices)/2.0\n",
        "\n",
        "print(mid_prices)"
      ],
      "metadata": {
        "colab": {
          "base_uri": "https://localhost:8080/"
        },
        "id": "smbshe7tF8IB",
        "outputId": "d45a1ae5-06e2-451c-a329-f97a14701161"
      },
      "execution_count": null,
      "outputs": [
        {
          "output_type": "stream",
          "name": "stdout",
          "text": [
            "[45688.11328125 45393.77929688 45577.66992188 45095.\n",
            " 45985.22851562 47611.8984375  47783.19335938 47496.72265625\n",
            " 47939.53320312 47624.0859375  44963.55664062 41697.609375\n",
            " 42302.12695312 44025.7578125  43008.52539062 42378.08984375\n",
            " 42383.88085938 43251.93945312 41853.40429688 41687.46289062\n",
            " 42768.59179688 45878.01757812 47873.77929688 48143.99023438\n",
            " 48250.890625   50456.41210938 53028.328125   54432.046875\n",
            " 54805.51757812 54566.54492188 55332.78125    56156.40234375\n",
            " 56052.92578125 56029.81640625 57717.90429688 59812.63671875\n",
            " 61240.29882812 60404.99609375 61313.70898438 63028.734375\n",
            " 65270.53320312 64358.97851562 61918.91015625 60785.20117188\n",
            " 60574.57421875 62210.5625     61610.09375    59821.68554688\n",
            " 60167.77539062 61628.78710938 61624.265625   61240.25      ]\n"
          ]
        }
      ]
    },
    {
      "cell_type": "code",
      "source": [
        "train_data = []\n",
        "counter = 0\n",
        "for i in mid_prices:\n",
        "  if counter==30:\n",
        "    break\n",
        "  train_data.append(i)\n",
        "  counter += 1\n",
        "test_data = mid_prices[30:]\n",
        "train_data = np.array(train_data)\n",
        "print(len(train_data))\n",
        "print(len(test_data))"
      ],
      "metadata": {
        "colab": {
          "base_uri": "https://localhost:8080/"
        },
        "id": "L5CJG-aDF98y",
        "outputId": "17dace0c-76c0-4967-8fe9-a5ffa0f9b0a5"
      },
      "execution_count": null,
      "outputs": [
        {
          "output_type": "stream",
          "name": "stdout",
          "text": [
            "30\n",
            "22\n"
          ]
        }
      ]
    },
    {
      "cell_type": "code",
      "source": [
        "scaler = MinMaxScaler()\n",
        "train_data = train_data.reshape(-1,1)\n",
        "test_data = test_data.reshape(-1,1)\n",
        "print(train_data)\n",
        "print(test_data)"
      ],
      "metadata": {
        "colab": {
          "base_uri": "https://localhost:8080/"
        },
        "id": "ev2xh9-8F_n3",
        "outputId": "5794ab3d-4a20-4636-e968-f58fee1582e0"
      },
      "execution_count": null,
      "outputs": [
        {
          "output_type": "stream",
          "name": "stdout",
          "text": [
            "[[45688.11328125]\n",
            " [45393.77929688]\n",
            " [45577.66992188]\n",
            " [45095.        ]\n",
            " [45985.22851562]\n",
            " [47611.8984375 ]\n",
            " [47783.19335938]\n",
            " [47496.72265625]\n",
            " [47939.53320312]\n",
            " [47624.0859375 ]\n",
            " [44963.55664062]\n",
            " [41697.609375  ]\n",
            " [42302.12695312]\n",
            " [44025.7578125 ]\n",
            " [43008.52539062]\n",
            " [42378.08984375]\n",
            " [42383.88085938]\n",
            " [43251.93945312]\n",
            " [41853.40429688]\n",
            " [41687.46289062]\n",
            " [42768.59179688]\n",
            " [45878.01757812]\n",
            " [47873.77929688]\n",
            " [48143.99023438]\n",
            " [48250.890625  ]\n",
            " [50456.41210938]\n",
            " [53028.328125  ]\n",
            " [54432.046875  ]\n",
            " [54805.51757812]\n",
            " [54566.54492188]]\n",
            "[[55332.78125   ]\n",
            " [56156.40234375]\n",
            " [56052.92578125]\n",
            " [56029.81640625]\n",
            " [57717.90429688]\n",
            " [59812.63671875]\n",
            " [61240.29882812]\n",
            " [60404.99609375]\n",
            " [61313.70898438]\n",
            " [63028.734375  ]\n",
            " [65270.53320312]\n",
            " [64358.97851562]\n",
            " [61918.91015625]\n",
            " [60785.20117188]\n",
            " [60574.57421875]\n",
            " [62210.5625    ]\n",
            " [61610.09375   ]\n",
            " [59821.68554688]\n",
            " [60167.77539062]\n",
            " [61628.78710938]\n",
            " [61624.265625  ]\n",
            " [61240.25      ]]\n"
          ]
        }
      ]
    },
    {
      "cell_type": "code",
      "source": [
        "# Now perform exponential moving average smoothing\n",
        "# So the data will have a smoother curve than the original ragged data\n",
        "# EMA = 0.0\n",
        "# gamma = 0.1\n",
        "# for ti in range(30):\n",
        "#   EMA = gamma*train_data[ti] + (1-gamma)*EMA\n",
        "#   train_data[ti] = EMA\n",
        "\n",
        "# Used for visualization and test purposes\n",
        "print(train_data)\n",
        "print(test_data)\n",
        "all_mid_data = np.concatenate((train_data,test_data),axis=0)"
      ],
      "metadata": {
        "colab": {
          "base_uri": "https://localhost:8080/"
        },
        "id": "2Jrktbb8GC7S",
        "outputId": "d33ed3db-5009-44c3-d34a-976f40fbc42b"
      },
      "execution_count": null,
      "outputs": [
        {
          "output_type": "stream",
          "name": "stdout",
          "text": [
            "[[45688.11328125]\n",
            " [45393.77929688]\n",
            " [45577.66992188]\n",
            " [45095.        ]\n",
            " [45985.22851562]\n",
            " [47611.8984375 ]\n",
            " [47783.19335938]\n",
            " [47496.72265625]\n",
            " [47939.53320312]\n",
            " [47624.0859375 ]\n",
            " [44963.55664062]\n",
            " [41697.609375  ]\n",
            " [42302.12695312]\n",
            " [44025.7578125 ]\n",
            " [43008.52539062]\n",
            " [42378.08984375]\n",
            " [42383.88085938]\n",
            " [43251.93945312]\n",
            " [41853.40429688]\n",
            " [41687.46289062]\n",
            " [42768.59179688]\n",
            " [45878.01757812]\n",
            " [47873.77929688]\n",
            " [48143.99023438]\n",
            " [48250.890625  ]\n",
            " [50456.41210938]\n",
            " [53028.328125  ]\n",
            " [54432.046875  ]\n",
            " [54805.51757812]\n",
            " [54566.54492188]]\n",
            "[[55332.78125   ]\n",
            " [56156.40234375]\n",
            " [56052.92578125]\n",
            " [56029.81640625]\n",
            " [57717.90429688]\n",
            " [59812.63671875]\n",
            " [61240.29882812]\n",
            " [60404.99609375]\n",
            " [61313.70898438]\n",
            " [63028.734375  ]\n",
            " [65270.53320312]\n",
            " [64358.97851562]\n",
            " [61918.91015625]\n",
            " [60785.20117188]\n",
            " [60574.57421875]\n",
            " [62210.5625    ]\n",
            " [61610.09375   ]\n",
            " [59821.68554688]\n",
            " [60167.77539062]\n",
            " [61628.78710938]\n",
            " [61624.265625  ]\n",
            " [61240.25      ]]\n"
          ]
        }
      ]
    },
    {
      "cell_type": "code",
      "source": [
        "window_size = 2\n",
        "N = all_mid_data.size\n",
        "std_avg_predictions = []\n",
        "std_avg_x = []\n",
        "mse_errors = []\n",
        "\n",
        "for pred_idx in range(window_size,N):\n",
        "\n",
        "    if pred_idx >= N:\n",
        "        date = dt.datetime.strptime(k, '%Y-%m-%d').date() + dt.timedelta(days=1)\n",
        "    else:\n",
        "        date = df.loc[pred_idx,'date']\n",
        "\n",
        "    std_avg_predictions.append(np.mean(all_mid_data[pred_idx-window_size:pred_idx]))\n",
        "    mse_errors.append((std_avg_predictions[-1]-all_mid_data[pred_idx])**2)\n",
        "    std_avg_x.append(date)\n",
        "\n",
        "print('MSE error for standard averaging: %.5f'%(0.5*np.mean(mse_errors)))"
      ],
      "metadata": {
        "colab": {
          "base_uri": "https://localhost:8080/"
        },
        "id": "Sj3TTdAzGDeK",
        "outputId": "7c0372d1-e92d-48c0-b89b-6598876e37be"
      },
      "execution_count": null,
      "outputs": [
        {
          "output_type": "stream",
          "name": "stdout",
          "text": [
            "MSE error for standard averaging: 1587409.06937\n"
          ]
        }
      ]
    },
    {
      "cell_type": "code",
      "source": [
        "plt.figure(figsize = (18,9))\n",
        "plt.plot(range(df.shape[0]),all_mid_data,color='b',label='True')\n",
        "plt.plot(range(window_size,N),std_avg_predictions,color='orange',label='Prediction')\n",
        "plt.xticks(range(0,df.shape[0],50),df['date'].loc[::50],rotation=45)\n",
        "plt.xlabel('Date')\n",
        "plt.ylabel('Mid Price')\n",
        "plt.legend(fontsize=18)\n",
        "plt.show()"
      ],
      "metadata": {
        "colab": {
          "base_uri": "https://localhost:8080/",
          "height": 622
        },
        "id": "b_erMQWQGLRC",
        "outputId": "317d47ee-1fbd-4a8d-abdd-c676f6a96377"
      },
      "execution_count": null,
      "outputs": [
        {
          "output_type": "display_data",
          "data": {
            "image/png": "[encoded data removed]",
            "text/plain": [
              "<Figure size 1296x648 with 1 Axes>"
            ]
          },
          "metadata": {
            "needs_background": "light"
          }
        }
      ]
    },
    {
      "cell_type": "markdown",
      "source": [
        "# Twitter Sentiment Analysis\n"
      ],
      "metadata": {
        "id": "-jCPZ3BMOfWc"
      }
    },
    {
      "cell_type": "markdown",
      "source": [
        "Our sentiment analysis scrapes tweets related to Bitcoin. Twitter's API provides each tweet with polarity and subjectivity values. The polarity of a tweet determines if the tweet has a positive or negative connotation behind it (via a positive or negative numeric value). We ignore polarities of 0 (since the idea is that a Bitcoin related tweet that is deemed \"neutral\" has no effect on the price). Subjectivity is a numeric value that describes how factual a tweet might be. The higher the subjectivity value, the less likely the tweet is to be factual. While we could not integrate our sentiment analysis on Bitcoin tweets with either of the Prophet or DeepAR models, we understand how it could be done. A feature of the model could exist that tweaks the predicted price based on average polarity and subectivity scores of Bitcoin tweets on a particular day. If on a given day, there are many positive tweets (highly positive polarities), we could predict that the price of Bitcoin on that day would increase. The subjectivities of those tweets would be the greatest determining factor of how much the price would increase.\n",
        "\n",
        "We also collected tweets from the days leading up to the deadline and displayed Positive vs. Negative Bitcoin tweets."
      ],
      "metadata": {
        "id": "oQMUt989B6TY"
      }
    },
    {
      "cell_type": "code",
      "source": [
        "# import tweepy library for twitter api access and textblob libary for sentiment analysis\n",
        "import csv\n",
        "import tweepy\n",
        "import numpy as np\n",
        "from textblob import TextBlob\n",
        "import re"
      ],
      "metadata": {
        "id": "4eVX4SefO5Ut"
      },
      "execution_count": null,
      "outputs": []
    },
    {
      "cell_type": "code",
      "source": [
        "def get_subjectivity(tweets):\n",
        "    # run subjectivity analysis on tweets\n",
        "\n",
        "    tweet_subjectivity = []\n",
        "\n",
        "    for tweet in tweets:\n",
        "        analysis = TextBlob(tweet.text)\n",
        "        tweet_subjectivity.append(analysis.sentiment.subjectivity)\n",
        "\n",
        "    return tweet_subjectivity\n",
        "    \n",
        "\n",
        "def get_polarity(tweets):\n",
        "    # run polarity analysis on tweets\n",
        "\n",
        "    tweet_polarity = []\n",
        "\n",
        "    for tweet in tweets:\n",
        "        analysis = TextBlob(tweet.text)\n",
        "        tweet_polarity.append(analysis.sentiment.polarity)\n",
        "\n",
        "    return tweet_polarity\n",
        "\n",
        "def classify_sentiment(analysis, threshold = 0):\n",
        "    # classify sentiment polarity as positive or negative\n",
        "\n",
        "    if analysis.sentiment.polarity > threshold:\n",
        "        return 'Positive'\n",
        "    elif analysis.sentiment.polarity < threshold:\n",
        "        return 'Negative'\n",
        "    else:\n",
        "        return 'Neutral'\n",
        "\n",
        "\n",
        "def get_sentiment_stats(tweets, get_polarity, get_subjectivity):\n",
        "    # generate sentiment stats\n",
        "\n",
        "    polarity = get_polarity(tweets)\n",
        "    subjectivity = get_subjectivity(tweets)\n",
        "\n",
        "    print('Polarity count: %s' % np.count_nonzero(polarity))\n",
        "    print('Polarity average: %.3f' % np.mean(polarity))\n",
        "    print('Polarity standard deviation: %.3f' % np.std(polarity))\n",
        "    print('Polarity coefficient of variation: %.3f' % (np.std(polarity) / np.mean(polarity)))\n",
        "    print('********')\n",
        "    print('Subjectivity count: %s' % np.count_nonzero(subjectivity))\n",
        "    print('Subjectivity average: %.3f' % np.mean(subjectivity))\n",
        "    print('Subjectivity standard deviation: %.3f' % np.std(subjectivity))\n",
        "    print('Subjectivity coefficient of variation: %.3f' % (np.std(subjectivity) / np.mean(subjectivity)))\n",
        "\n",
        "\n",
        "# set twitter api credentials\n",
        "consumer_key= 'SD6A9aQIFNBZDwAhKMPYvKyPk'\n",
        "consumer_secret= 'KIAAune9TMMJyaDBwWohXOWcUMYDPuUDglWTmXMxXgMlbNO8Qa'\n",
        "access_token='843250890203189248-7Yk1UQcrot4lqzKtxlZOj7BUrsxWS8a'\n",
        "access_token_secret='PU3VXX0K0qeVVRhYoVycyG5wnkQfzlm0NKViXFkls1yMD'\n",
        "\n",
        "\n",
        "# access twitter api via tweepy methods\n",
        "auth = tweepy.OAuthHandler(consumer_key, consumer_secret)\n",
        "auth.set_access_token(access_token, access_token_secret)\n",
        "twitter_api = tweepy.API(auth)\n",
        "\n",
        "# fetch tweets by keywords\n",
        "tweets = twitter_api.search(q=['bitcoin'], count=100)\n",
        "\n",
        "# generate sentiment stats\n",
        "get_sentiment_stats(tweets, get_polarity, get_subjectivity)"
      ],
      "metadata": {
        "colab": {
          "base_uri": "https://localhost:8080/"
        },
        "id": "sJed2rBQOiFv",
        "outputId": "84166d8e-b593-4c11-eb53-96261562a16c"
      },
      "execution_count": null,
      "outputs": [
        {
          "output_type": "stream",
          "name": "stdout",
          "text": [
            "Polarity count: 49\n",
            "Polarity average: 0.133\n",
            "Polarity standard deviation: 0.223\n",
            "Polarity coefficient of variation: 1.679\n",
            "********\n",
            "Subjectivity count: 59\n",
            "Subjectivity average: 0.361\n",
            "Subjectivity standard deviation: 0.332\n",
            "Subjectivity coefficient of variation: 0.921\n"
          ]
        }
      ]
    },
    {
      "cell_type": "code",
      "source": [
        "# Declare parameters\n",
        "crypto_currency = 'Bitcoin'\n",
        "start = \"2021-12-09\"\n",
        "end = \"2021-12-12\"\n",
        "collected_count = 1000\n",
        "\n",
        "# Collect tweets\n",
        "search = f'#{crypto_currency} -filter:retweets'\n",
        "tweet_cursor = tweepy.Cursor(twitter_api.search, q=search, lang='en', tweet_mode='extended').items(collected_count)\n",
        "tweets = [tweet.full_text for tweet in tweet_cursor]\n",
        "\n",
        "# Form into Pandas dataframe and trim data\n",
        "tweets_df = pd.DataFrame(tweets, columns=['Tweets'])\n",
        "for _, row in tweets_df.iterrows():\n",
        "  row['Tweets'] = re.sub('http\\$+', '', row['Tweets'])\n",
        "  row['Tweets'] = re.sub('#\\$+', '', row['Tweets'])\n",
        "  row['Tweets'] = re.sub('@\\S+', '', row['Tweets'])\n",
        "  row['Tweets'] = re.sub('\\\\n', '', row['Tweets'])\n",
        "\n",
        "# Analyze sentiment\n",
        "tweets_df['Polarity'] = tweets_df['Tweets'].map(lambda tweet: TextBlob(tweet).sentiment.polarity)\n",
        "tweets_df['Result'] = tweets_df['Polarity'].map(lambda pol: '+' if pol > 0 else '-')\n",
        "\n",
        "# Sort into categories\n",
        "positive = tweets_df[tweets_df.Result == '+'].count()['Tweets']\n",
        "negative  = tweets_df[tweets_df.Result == '-'].count()['Tweets']\n",
        "\n",
        "# Plot\n",
        "plt.bar([0, 1], [positive, negative], label=['Positive', 'Negative'], color=['green', 'red'])\n",
        "plt.legend()\n",
        "plt.show()"
      ],
      "metadata": {
        "colab": {
          "base_uri": "https://localhost:8080/",
          "height": 265
        },
        "id": "YVPAhc29FEoB",
        "outputId": "96c7a913-bca7-43b6-ef20-2acd0c7888f6"
      },
      "execution_count": null,
      "outputs": [
        {
          "output_type": "display_data",
          "data": {
            "image/png": "[encoded data removed]",
            "text/plain": [
              "<Figure size 432x288 with 1 Axes>"
            ]
          },
          "metadata": {
            "needs_background": "light"
          }
        }
      ]
    }
  ]
}